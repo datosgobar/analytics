{
 "cells": [
  {
   "cell_type": "markdown",
   "metadata": {},
   "source": [
    "# Métodos para generar dumps públicos de analytics"
   ]
  },
  {
   "cell_type": "code",
   "execution_count": 70,
   "metadata": {},
   "outputs": [],
   "source": [
    "import pandas as pd\n",
    "import zipfile\n",
    "from glob import glob\n",
    "import os"
   ]
  },
  {
   "cell_type": "code",
   "execution_count": 71,
   "metadata": {},
   "outputs": [],
   "source": [
    "def process_series_analytics(df):\n",
    "    \"\"\"Remueve columnas para publicar analytics de series.\"\"\"\n",
    "    df_dropped = df.drop(columns=[\"id\", \"ip_address\", \"host\", \"request_time\", \n",
    "                                  \"api_data\", \"token\", \"referer\"], \n",
    "                         errors=\"ignore\")\n",
    "    return df_dropped"
   ]
  },
  {
   "cell_type": "code",
   "execution_count": 72,
   "metadata": {},
   "outputs": [],
   "source": [
    "def process_georef_analytics(df):\n",
    "    \"\"\"Remueve columnas e input de uris restingidas para publicar \n",
    "    analytics de georef.\"\"\"\n",
    "    disclosive_uris = [\n",
    "        \"/georef/api/direcciones\", \"/georef/api/v1.0/direcciones\",\n",
    "        \"/georef/api/ubicacion\", \"/georef/api/v1.0/ubicacion\"\n",
    "    ]\n",
    "    \n",
    "    df_dropped = df.drop(columns=[\"id\", \"ip_address\", \"host\", \"request_time\", \n",
    "                                  \"api_data\", \"token\", \"referer\"], \n",
    "                         errors=\"ignore\")\n",
    "    \n",
    "    df_dropped.loc[df_dropped.uri.isin(disclosive_uris), \"querystring\"] = None\n",
    "    \n",
    "    return df_dropped"
   ]
  },
  {
   "cell_type": "code",
   "execution_count": 74,
   "metadata": {},
   "outputs": [],
   "source": [
    "def add_analytics_file_to_zip(zip_path, csv_path, process_function, \n",
    "                              remove_after=False):\n",
    "    \"\"\"Agrega un CSV de analytics a un ZIP.\"\"\"\n",
    "    df_input = pd.read_csv(csv_path, encoding=\"utf8\")\n",
    "    df_output = process_function(df_input)\n",
    "    \n",
    "    with ZipFile(zip_path, 'a', compression=zipfile.ZIP_DEFLATED) as zp:\n",
    "        zp.writestr(os.path.basename(csv_path), \n",
    "                    df_output.to_csv(encoding=\"utf8\", index=False))\n",
    "    \n",
    "    if remove_after:\n",
    "        os.remove(csv_path)"
   ]
  },
  {
   "cell_type": "code",
   "execution_count": 82,
   "metadata": {},
   "outputs": [],
   "source": [
    "def create_analytics_zip(analytics_csv_pattern, analytics_zip, process_function):\n",
    "    # toma archivos de analytics ya comprimidos\n",
    "    zipf = zipfile.ZipFile(analytics_zip)\n",
    "    zipped_files = zipf.namelist()\n",
    "    \n",
    "    for csv_path in glob(analytics_csv_pattern):\n",
    "        csv_filename = os.path.basename(csv_path)\n",
    "        if not csv_filename in zipped_files:\n",
    "            print(\"Adding {}...\".format(csv_path))\n",
    "            add_analytics_file_to_zip(analytics_zip, csv_path, process_function)"
   ]
  },
  {
   "cell_type": "code",
   "execution_count": 83,
   "metadata": {},
   "outputs": [],
   "source": []
  },
  {
   "cell_type": "code",
   "execution_count": 84,
   "metadata": {},
   "outputs": [],
   "source": []
  },
  {
   "cell_type": "code",
   "execution_count": null,
   "metadata": {},
   "outputs": [],
   "source": []
  }
 ],
 "metadata": {
  "kernelspec": {
   "display_name": "Python 3",
   "language": "python",
   "name": "python3"
  },
  "language_info": {
   "codemirror_mode": {
    "name": "ipython",
    "version": 3
   },
   "file_extension": ".py",
   "mimetype": "text/x-python",
   "name": "python",
   "nbconvert_exporter": "python",
   "pygments_lexer": "ipython3",
   "version": "3.7.3"
  },
  "toc": {
   "colors": {
    "hover_highlight": "#DAA520",
    "running_highlight": "#FF0000",
    "selected_highlight": "#FFD700"
   },
   "moveMenuLeft": true,
   "nav_menu": {
    "height": "12px",
    "width": "252px"
   },
   "navigate_menu": true,
   "number_sections": true,
   "sideBar": true,
   "threshold": 4,
   "toc_cell": false,
   "toc_section_display": "block",
   "toc_window_display": false
  }
 },
 "nbformat": 4,
 "nbformat_minor": 2
}
