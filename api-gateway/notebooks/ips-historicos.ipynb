{
 "cells": [
  {
   "cell_type": "markdown",
   "metadata": {},
   "source": [
    "# IPs únicos históricos por API"
   ]
  },
  {
   "cell_type": "code",
   "execution_count": 1,
   "metadata": {
    "ExecuteTime": {
     "end_time": "2019-08-06T19:44:13.763932Z",
     "start_time": "2019-08-06T19:44:13.751418Z"
    }
   },
   "outputs": [],
   "source": [
    "# setup\n",
    "import os\n",
    "import sys\n",
    "\n",
    "# para importar módulos en '../../tools'\n",
    "module_path = os.path.abspath(os.path.join('../../tools'))\n",
    "if module_path not in sys.path:\n",
    "    sys.path.append(module_path)\n"
   ]
  },
  {
   "cell_type": "code",
   "execution_count": 2,
   "metadata": {
    "ExecuteTime": {
     "end_time": "2019-08-06T19:44:14.131249Z",
     "start_time": "2019-08-06T19:44:13.941459Z"
    }
   },
   "outputs": [],
   "source": [
    "import locale\n",
    "\n",
    "import glob\n",
    "import pandas as pd\n",
    "import numpy as np\n",
    "\n",
    "import matplotlib.pyplot as plt\n",
    "import matplotlib.patches as patches\n",
    "import seaborn as sns\n",
    "\n",
    "import json\n",
    "\n",
    "# from tools.download import download\n",
    "\n",
    "import analytics_tools\n",
    "\n",
    "from IPython.core.display import display, HTML\n",
    "\n",
    "locale.setlocale(locale.LC_ALL, '')\n",
    "\n",
    "pd.set_option('precision',2)\n",
    "pd.set_option('display.float_format', lambda x: locale.format_string('%.2f', x, 1))\n"
   ]
  },
  {
   "cell_type": "code",
   "execution_count": 3,
   "metadata": {
    "ExecuteTime": {
     "end_time": "2019-08-06T19:44:23.208519Z",
     "start_time": "2019-08-06T19:44:23.183275Z"
    }
   },
   "outputs": [],
   "source": [
    "# formarters\n",
    "f_ar = lambda x: locale.format_string('%.2f', x, 1)\n",
    "d_ar = lambda x: locale.format_string('%d', x, 1)\n",
    "\n",
    "tz_arg = lambda x: pd.to_datetime(x).tz_localize('UTC').tz_convert(tz='America/Argentina/Buenos_Aires')\n",
    "\n",
    "TABLE_COUNTER = 0\n",
    "TABLE_TEMPLATE = \"\"\"\n",
    "<center><strong><small>{title}</small></strong></center>\n",
    "<center>{table}</center>\n",
    "<center><strong><small>Tabla {table_number}</small></strong></center>\n",
    "\"\"\"\n",
    "\n",
    "def add_totals(df):\n",
    "    df_to_append = pd.DataFrame(df.sum(numeric_only=True)).T\n",
    "    \n",
    "    df_appended = df.append(df_to_append)\n",
    "    \n",
    "    as_list = df_appended.index.tolist()\n",
    "    idx = as_list.index(0)\n",
    "    as_list[idx] = 'Total'\n",
    "    df_appended.index = as_list\n",
    "    \n",
    "    return df_appended\n",
    "\n",
    "def table_counter():\n",
    "    global TABLE_COUNTER\n",
    "    TABLE_COUNTER += 1\n",
    "    return TABLE_COUNTER\n",
    "\n",
    "def add_style_to_df(df, subset, color='black', font_weight=None):\n",
    "    render = df.style.set_properties(\n",
    "        subset= subset, \n",
    "        **{'font-weight': font_weight, 'color':color}).render().replace('\\n','')\n",
    "    return render\n",
    "\n",
    "def add_title(df_html, title):\n",
    "    str_table = TABLE_TEMPLATE.format(title=title, table=df_html, table_number=table_counter())\n",
    "    return str_table.replace('\\n','')\n",
    "\n",
    "def put_df_on_report(df, title, subset=None, color='black', font_weight='bold'):\n",
    "    if subset:\n",
    "        df_html = add_style_to_df(df, subset=subset,color=color, font_weight=font_weight)\n",
    "    else:\n",
    "        df_html = df.to_html().replace('\\n','')\n",
    "    return add_title(df_html, title)"
   ]
  },
  {
   "cell_type": "code",
   "execution_count": 4,
   "metadata": {
    "ExecuteTime": {
     "end_time": "2019-08-06T19:44:23.775339Z",
     "start_time": "2019-08-06T19:44:23.752337Z"
    }
   },
   "outputs": [],
   "source": [
    "def read_files_to_df(directory):\n",
    "    \"\"\"Lee CSVs de misma estructura en un directorio a un solo DataFrame.\"\"\"\n",
    "\n",
    "    file_pattern = os.path.join(directory, \"*.csv\")\n",
    "    dfs = [pd.read_csv(file, encoding=\"utf8\", parse_dates=True)\n",
    "           for file in glob.glob(file_pattern)]\n",
    "        \n",
    "    return pd.concat(dfs, axis=0)\n",
    "\n",
    "def count_file_row(directory):\n",
    "    \"\"\"Lee CSVs de misma estructura en un directorio a un solo DataFrame.\"\"\"\n",
    "    \n",
    "    days_list = []\n",
    "    file_pattern = os.path.join(directory, \"*.csv\")\n",
    "    \n",
    "    for file in glob.glob(file_pattern):\n",
    "        day_df = pd.read_csv(file, encoding=\"utf8\", parse_dates=True)\n",
    "        r, c = day_df.shape\n",
    "        day = file[-14:-4]\n",
    "        days_list.append([day, r, file])\n",
    "        \n",
    "    return pd.DataFrame(days_list)"
   ]
  },
  {
   "cell_type": "code",
   "execution_count": 5,
   "metadata": {
    "ExecuteTime": {
     "end_time": "2019-08-06T19:44:25.179507Z",
     "start_time": "2019-08-06T19:44:24.307794Z"
    }
   },
   "outputs": [],
   "source": [
    "# actualizo los analytics de ambas apis\n",
    "analytics_tools.update_analytics()"
   ]
  },
  {
   "cell_type": "code",
   "execution_count": 6,
   "metadata": {
    "ExecuteTime": {
     "end_time": "2019-08-06T19:48:39.590562Z",
     "start_time": "2019-08-06T19:44:25.223743Z"
    }
   },
   "outputs": [
    {
     "name": "stderr",
     "output_type": "stream",
     "text": [
      "/Users/abenassi/anaconda/envs/analytics/lib/python3.7/site-packages/ipykernel_launcher.py:8: FutureWarning: Sorting because non-concatenation axis is not aligned. A future version\n",
      "of pandas will change to not sort by default.\n",
      "\n",
      "To accept the future behavior, pass 'sort=False'.\n",
      "\n",
      "To retain the current behavior and silence the warning, pass 'sort=True'.\n",
      "\n",
      "  \n"
     ]
    }
   ],
   "source": [
    "dir_sdt = analytics_tools.DIR_DATA_SDT\n",
    "dir_gr = analytics_tools.DIR_DATA_GR\n",
    "\n",
    "paths = [dir_sdt, dir_gr]\n",
    "titles = ['Series de Tiempo', 'Georef']\n",
    "apis = ['series-tiempo', 'georef']\n",
    "\n",
    "htmls = []\n",
    "\n",
    "for path, title, api in zip(paths,titles,apis):\n",
    "    \n",
    "    df_analytics = read_files_to_df(path)\n",
    "\n",
    "    df_analytics['start_time_utc'] = pd.to_datetime(df_analytics['start_time'])\n",
    "#     df_analytics['start_time'] = pd.DatetimeIndex(df_analytics['start_time']).tz_localize('UTC').tz_convert(tz='America/Argentina/Buenos_Aires')\n",
    "    df_analytics['start_time'] = pd.DatetimeIndex(df_analytics['start_time']).tz_convert(tz='America/Argentina/Buenos_Aires')\n",
    "    df_analytics[\"date_full\"] = pd.DatetimeIndex(df_analytics.start_time).normalize()\n",
    "    df_analytics[\"date\"] = pd.DatetimeIndex(df_analytics.start_time).strftime('%Y-%m')\n",
    "\n",
    "    end_date = str(df_analytics[\"date_full\"].max())[:10]\n",
    "    \n",
    "    ips_birthdate = df_analytics[['ip_address','date']].groupby(['ip_address']).min()['date'].reset_index()\n",
    "    ips_birthdate.rename({'date':'birthdate'}, axis=1, inplace=True)\n",
    "\n",
    "    unique_ips_dates = df_analytics[['ip_address','date']].drop_duplicates()\n",
    "    df_ips = unique_ips_dates.merge(ips_birthdate, on='ip_address', how='left')\n",
    "\n",
    "    # cantidad de ips únicas\n",
    "    ips_nunique = df_ips.ip_address.nunique()\n",
    "\n",
    "    # cantidad de ips nuevos por mes\n",
    "    ips_born_per_month = df_ips[['birthdate','ip_address']].groupby('birthdate').nunique()['ip_address'].reset_index()\n",
    "    ips_born_per_month.rename({'ip_address':'ips_nuevos'}, axis=1, inplace=True)\n",
    "\n",
    "    # cantidad de ips por mes\n",
    "    ips_per_month = df_ips[['date','ip_address']].groupby('date').nunique()['ip_address'].reset_index()\n",
    "    ips_per_month.rename({'ip_address':'ips_unicos'}, axis=1, inplace=True)\n",
    "\n",
    "    # acumulado de ips únicas por mes\n",
    "    ips_per_month['ips_acumulados'] = ips_per_month.ips_unicos.cumsum()\n",
    "\n",
    "    df_agg_ips = ips_born_per_month.merge(ips_per_month, left_on='birthdate', right_on='date')\n",
    "    df_agg_ips.rename({'date':''}, axis=1, inplace=True)\n",
    "    df_agg_ips.set_index('', inplace=True)\n",
    "    df_agg_ips.drop('birthdate', axis=1, inplace=True)\n",
    "\n",
    "    df_agg_ips = add_totals(df_agg_ips)\n",
    "\n",
    "    ips_recurrentes = (1 - df_agg_ips.ips_nuevos/df_agg_ips.ips_unicos)*100\n",
    "    df_agg_ips['ips_recurrentes'] = ips_recurrentes.apply(lambda x: '{:.2f} %'.format(x))\n",
    "\n",
    "    df_agg_ips.to_csv('../reports/ips-historicos-{}.csv'.format(api))\n",
    "    \n",
    "    htmls.append(put_df_on_report(df_agg_ips, '{} - Hasta el día {}'.format(title, end_date)))"
   ]
  },
  {
   "cell_type": "code",
   "execution_count": 7,
   "metadata": {
    "ExecuteTime": {
     "end_time": "2019-08-06T19:51:15.324780Z",
     "start_time": "2019-08-06T19:51:15.321837Z"
    }
   },
   "outputs": [],
   "source": [
    "sdt = htmls[0]\n",
    "gr = htmls[1]"
   ]
  },
  {
   "cell_type": "markdown",
   "metadata": {},
   "source": [
    "[Descargar CSV - series de tiempo](https://datosgobar.github.io/analytics/api-gateway/reports/ips-historicos-series-tiempo.csv)\n",
    "\n",
    "[Descargar CSV - georef](https://datosgobar.github.io/analytics/api-gateway/reports/ips-historicos-georef.csv)"
   ]
  },
  {
   "cell_type": "code",
   "execution_count": 8,
   "metadata": {
    "ExecuteTime": {
     "end_time": "2019-08-06T19:51:16.475667Z",
     "start_time": "2019-08-06T19:51:16.451015Z"
    }
   },
   "outputs": [
    {
     "data": {
      "text/html": [
       "<center><strong><small>Series de Tiempo - Hasta el día 2019-09-12</small></strong></center><center><table border=\"1\" class=\"dataframe\">  <thead>    <tr style=\"text-align: right;\">      <th></th>      <th>ips_nuevos</th>      <th>ips_unicos</th>      <th>ips_acumulados</th>      <th>ips_recurrentes</th>    </tr>  </thead>  <tbody>    <tr>      <th>2018-01</th>      <td>203</td>      <td>203</td>      <td>203</td>      <td>0.00 %</td>    </tr>    <tr>      <th>2018-02</th>      <td>201</td>      <td>265</td>      <td>468</td>      <td>24.15 %</td>    </tr>    <tr>      <th>2018-03</th>      <td>148</td>      <td>231</td>      <td>699</td>      <td>35.93 %</td>    </tr>    <tr>      <th>2018-04</th>      <td>33</td>      <td>39</td>      <td>738</td>      <td>15.38 %</td>    </tr>    <tr>      <th>2018-05</th>      <td>83</td>      <td>153</td>      <td>891</td>      <td>45.75 %</td>    </tr>    <tr>      <th>2018-06</th>      <td>219</td>      <td>325</td>      <td>1216</td>      <td>32.62 %</td>    </tr>    <tr>      <th>2018-07</th>      <td>164</td>      <td>249</td>      <td>1465</td>      <td>34.14 %</td>    </tr>    <tr>      <th>2018-08</th>      <td>384</td>      <td>485</td>      <td>1950</td>      <td>20.82 %</td>    </tr>    <tr>      <th>2018-09</th>      <td>1090</td>      <td>1261</td>      <td>3211</td>      <td>13.56 %</td>    </tr>    <tr>      <th>2018-10</th>      <td>931</td>      <td>1194</td>      <td>4405</td>      <td>22.03 %</td>    </tr>    <tr>      <th>2018-11</th>      <td>4195</td>      <td>4665</td>      <td>9070</td>      <td>10.08 %</td>    </tr>    <tr>      <th>2018-12</th>      <td>2896</td>      <td>3698</td>      <td>12768</td>      <td>21.69 %</td>    </tr>    <tr>      <th>2019-01</th>      <td>2915</td>      <td>3928</td>      <td>16696</td>      <td>25.79 %</td>    </tr>    <tr>      <th>2019-02</th>      <td>4168</td>      <td>5371</td>      <td>22067</td>      <td>22.40 %</td>    </tr>    <tr>      <th>2019-03</th>      <td>6858</td>      <td>8425</td>      <td>30492</td>      <td>18.60 %</td>    </tr>    <tr>      <th>2019-04</th>      <td>13661</td>      <td>16213</td>      <td>46705</td>      <td>15.74 %</td>    </tr>    <tr>      <th>2019-05</th>      <td>16356</td>      <td>20717</td>      <td>67422</td>      <td>21.05 %</td>    </tr>    <tr>      <th>2019-06</th>      <td>11739</td>      <td>16385</td>      <td>83807</td>      <td>28.36 %</td>    </tr>    <tr>      <th>2019-07</th>      <td>16522</td>      <td>25116</td>      <td>108923</td>      <td>34.22 %</td>    </tr>    <tr>      <th>2019-08</th>      <td>26389</td>      <td>40556</td>      <td>149479</td>      <td>34.93 %</td>    </tr>    <tr>      <th>2019-09</th>      <td>9428</td>      <td>19373</td>      <td>168852</td>      <td>51.33 %</td>    </tr>    <tr>      <th>Total</th>      <td>118583</td>      <td>168852</td>      <td>731527</td>      <td>29.77 %</td>    </tr>  </tbody></table></center><center><strong><small>Tabla 1</small></strong></center>"
      ],
      "text/plain": [
       "<IPython.core.display.HTML object>"
      ]
     },
     "metadata": {},
     "output_type": "display_data"
    }
   ],
   "source": [
    "display(HTML(sdt))"
   ]
  },
  {
   "cell_type": "code",
   "execution_count": 9,
   "metadata": {
    "ExecuteTime": {
     "end_time": "2019-08-06T19:51:19.508065Z",
     "start_time": "2019-08-06T19:51:19.491292Z"
    }
   },
   "outputs": [
    {
     "data": {
      "text/html": [
       "<center><strong><small>Georef - Hasta el día 2019-09-12</small></strong></center><center><table border=\"1\" class=\"dataframe\">  <thead>    <tr style=\"text-align: right;\">      <th></th>      <th>ips_nuevos</th>      <th>ips_unicos</th>      <th>ips_acumulados</th>      <th>ips_recurrentes</th>    </tr>  </thead>  <tbody>    <tr>      <th>2018-07</th>      <td>24</td>      <td>24</td>      <td>24</td>      <td>0.00 %</td>    </tr>    <tr>      <th>2018-08</th>      <td>209</td>      <td>227</td>      <td>251</td>      <td>7.93 %</td>    </tr>    <tr>      <th>2018-09</th>      <td>422</td>      <td>487</td>      <td>738</td>      <td>13.35 %</td>    </tr>    <tr>      <th>2018-10</th>      <td>15350</td>      <td>15556</td>      <td>16294</td>      <td>1.32 %</td>    </tr>    <tr>      <th>2018-11</th>      <td>129650</td>      <td>133849</td>      <td>150143</td>      <td>3.14 %</td>    </tr>    <tr>      <th>2018-12</th>      <td>76930</td>      <td>98694</td>      <td>248837</td>      <td>22.05 %</td>    </tr>    <tr>      <th>2019-01</th>      <td>52015</td>      <td>74121</td>      <td>322958</td>      <td>29.82 %</td>    </tr>    <tr>      <th>2019-02</th>      <td>26507</td>      <td>36613</td>      <td>359571</td>      <td>27.60 %</td>    </tr>    <tr>      <th>2019-03</th>      <td>16225</td>      <td>23756</td>      <td>383327</td>      <td>31.70 %</td>    </tr>    <tr>      <th>2019-04</th>      <td>15951</td>      <td>23773</td>      <td>407100</td>      <td>32.90 %</td>    </tr>    <tr>      <th>2019-05</th>      <td>30875</td>      <td>42672</td>      <td>449772</td>      <td>27.65 %</td>    </tr>    <tr>      <th>2019-06</th>      <td>32573</td>      <td>47560</td>      <td>497332</td>      <td>31.51 %</td>    </tr>    <tr>      <th>2019-07</th>      <td>42064</td>      <td>61142</td>      <td>558474</td>      <td>31.20 %</td>    </tr>    <tr>      <th>2019-08</th>      <td>15777</td>      <td>27315</td>      <td>585789</td>      <td>42.24 %</td>    </tr>    <tr>      <th>2019-09</th>      <td>6333</td>      <td>11882</td>      <td>597671</td>      <td>46.70 %</td>    </tr>    <tr>      <th>Total</th>      <td>460905</td>      <td>597671</td>      <td>4578281</td>      <td>22.88 %</td>    </tr>  </tbody></table></center><center><strong><small>Tabla 2</small></strong></center>"
      ],
      "text/plain": [
       "<IPython.core.display.HTML object>"
      ]
     },
     "metadata": {},
     "output_type": "display_data"
    }
   ],
   "source": [
    "display(HTML(gr))"
   ]
  },
  {
   "cell_type": "code",
   "execution_count": null,
   "metadata": {},
   "outputs": [],
   "source": []
  }
 ],
 "metadata": {
  "hide_input": false,
  "kernelspec": {
   "display_name": "Python 3",
   "language": "python",
   "name": "python3"
  },
  "language_info": {
   "codemirror_mode": {
    "name": "ipython",
    "version": 3
   },
   "file_extension": ".py",
   "mimetype": "text/x-python",
   "name": "python",
   "nbconvert_exporter": "python",
   "pygments_lexer": "ipython3",
   "version": "3.7.3"
  },
  "toc": {
   "base_numbering": 1,
   "nav_menu": {},
   "number_sections": true,
   "sideBar": false,
   "skip_h1_title": false,
   "title_cell": "Table of Contents",
   "title_sidebar": "Contents",
   "toc_cell": false,
   "toc_position": {},
   "toc_section_display": true,
   "toc_window_display": false
  }
 },
 "nbformat": 4,
 "nbformat_minor": 2
}
