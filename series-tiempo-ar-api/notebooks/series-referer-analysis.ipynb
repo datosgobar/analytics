{
 "cells": [
  {
   "cell_type": "code",
   "execution_count": 1,
   "metadata": {},
   "outputs": [],
   "source": [
    "# setup\n",
    "import os\n",
    "import sys\n",
    "\n",
    "# para importar módulos en '../../tools'\n",
    "module_path = os.path.abspath(os.path.join('../../tools'))\n",
    "if module_path not in sys.path:\n",
    "    sys.path.append(module_path)\n",
    "\n",
    "import pandas as pd\n",
    "import glob\n",
    "import arrow\n",
    "\n",
    "import analytics_tools"
   ]
  },
  {
   "cell_type": "code",
   "execution_count": 2,
   "metadata": {},
   "outputs": [],
   "source": [
    "def read_files_to_df(directory, start_date=None):\n",
    "    \"\"\"Lee CSVs de misma estructura en un directorio a un solo DataFrame.\"\"\"\n",
    "    \n",
    "    start_date = start_date or arrow.now().shift(months=-3).format(\"YYYY-MM-DD\")\n",
    "    file_pattern = os.path.join(directory, \"*.csv\") \n",
    "    filtered_files = [\n",
    "        file for file in glob.glob(file_pattern) \n",
    "        if arrow.get(file.split(\"_\")[1].split(\".\")[0]) > arrow.get(start_date)\n",
    "    ]\n",
    "\n",
    "    dfs = [pd.read_csv(file, encoding=\"utf8\", parse_dates=True)\n",
    "           for file in filtered_files]\n",
    "        \n",
    "    return pd.concat(dfs, axis=0)"
   ]
  },
  {
   "cell_type": "code",
   "execution_count": 15,
   "metadata": {},
   "outputs": [],
   "source": [
    "df_analytics = read_files_to_df(analytics_tools.DIR_DATA_SDT, \"2019-09-03\")"
   ]
  },
  {
   "cell_type": "code",
   "execution_count": 16,
   "metadata": {},
   "outputs": [
    {
     "data": {
      "text/html": [
       "<div>\n",
       "<style scoped>\n",
       "    .dataframe tbody tr th:only-of-type {\n",
       "        vertical-align: middle;\n",
       "    }\n",
       "\n",
       "    .dataframe tbody tr th {\n",
       "        vertical-align: top;\n",
       "    }\n",
       "\n",
       "    .dataframe thead th {\n",
       "        text-align: right;\n",
       "    }\n",
       "</style>\n",
       "<table border=\"1\" class=\"dataframe\">\n",
       "  <thead>\n",
       "    <tr style=\"text-align: right;\">\n",
       "      <th></th>\n",
       "      <th>ip_address</th>\n",
       "    </tr>\n",
       "    <tr>\n",
       "      <th>referer</th>\n",
       "      <th></th>\n",
       "    </tr>\n",
       "  </thead>\n",
       "  <tbody>\n",
       "    <tr>\n",
       "      <td>https://www.minhacienda.gob.ar/series-tiempo-ar-landing/</td>\n",
       "      <td>34089</td>\n",
       "    </tr>\n",
       "    <tr>\n",
       "      <td>https://datos.gob.ar/series/api</td>\n",
       "      <td>18542</td>\n",
       "    </tr>\n",
       "    <tr>\n",
       "      <td>http://localhost:3000/</td>\n",
       "      <td>2134</td>\n",
       "    </tr>\n",
       "    <tr>\n",
       "      <td>http://datos.salud.gob.ar/series/api</td>\n",
       "      <td>2099</td>\n",
       "    </tr>\n",
       "    <tr>\n",
       "      <td>https://www.minhacienda.gob.ar/datos/</td>\n",
       "      <td>673</td>\n",
       "    </tr>\n",
       "    <tr>\n",
       "      <td>http://localhost/dataset/federado-balance-pagos-mbp5/archivo/federado____sspm_84.1</td>\n",
       "      <td>668</td>\n",
       "    </tr>\n",
       "    <tr>\n",
       "      <td>https://datos.agroindustria.gob.ar/series/api</td>\n",
       "      <td>638</td>\n",
       "    </tr>\n",
       "    <tr>\n",
       "      <td>https://datos.gob.ar/series/api/series/?ids=148.3_INIVELNAL_DICI_M_26</td>\n",
       "      <td>635</td>\n",
       "    </tr>\n",
       "    <tr>\n",
       "      <td>https://datos.agroindustria.gob.ar/series/api/search/?offset=0&amp;limit=10</td>\n",
       "      <td>503</td>\n",
       "    </tr>\n",
       "    <tr>\n",
       "      <td>https://www.minhacienda.gob.ar/</td>\n",
       "      <td>374</td>\n",
       "    </tr>\n",
       "    <tr>\n",
       "      <td>https://datosgobar.github.io/series-tiempo-ar-call-generator/</td>\n",
       "      <td>348</td>\n",
       "    </tr>\n",
       "    <tr>\n",
       "      <td>https://datos.agroindustria.gob.ar/series/api/search/?offset=0&amp;limit=10&amp;catalog_id=agroindustria</td>\n",
       "      <td>329</td>\n",
       "    </tr>\n",
       "    <tr>\n",
       "      <td>http://localhost/comex/series.php</td>\n",
       "      <td>322</td>\n",
       "    </tr>\n",
       "    <tr>\n",
       "      <td>https://datos.agroindustria.gob.ar/series/api/search/?q=</td>\n",
       "      <td>321</td>\n",
       "    </tr>\n",
       "    <tr>\n",
       "      <td>https://datos.gob.ar/series/api/search/?q=ipc</td>\n",
       "      <td>309</td>\n",
       "    </tr>\n",
       "    <tr>\n",
       "      <td>https://datos.gob.ar/series/api/search/?=0&amp;limit=100&amp;catalog_id=seguridad</td>\n",
       "      <td>301</td>\n",
       "    </tr>\n",
       "    <tr>\n",
       "      <td>https://datosgobar.github.io/series-tiempo-ar-explorer-demo/card/</td>\n",
       "      <td>300</td>\n",
       "    </tr>\n",
       "    <tr>\n",
       "      <td>https://datosgobar.github.io/series-tiempo-ar-validation/</td>\n",
       "      <td>286</td>\n",
       "    </tr>\n",
       "    <tr>\n",
       "      <td>https://datosgobar.github.io/series-tiempo-ar-explorer-demo/poncho/plantillas/dashboard</td>\n",
       "      <td>261</td>\n",
       "    </tr>\n",
       "    <tr>\n",
       "      <td>https://datos.gob.ar/series/api/search/?offset=0&amp;limit=10</td>\n",
       "      <td>231</td>\n",
       "    </tr>\n",
       "    <tr>\n",
       "      <td>https://datos.gob.ar/series/api/search/?q=</td>\n",
       "      <td>221</td>\n",
       "    </tr>\n",
       "    <tr>\n",
       "      <td>https://datosgobar.github.io/series-tiempo-ar-explorer/</td>\n",
       "      <td>214</td>\n",
       "    </tr>\n",
       "    <tr>\n",
       "      <td>https://datosgobar.github.io/series-tiempo-ar-explorer-demo/dashboard/</td>\n",
       "      <td>209</td>\n",
       "    </tr>\n",
       "    <tr>\n",
       "      <td>https://datos.agroindustria.gob.ar/series/api/series/?ids=AGRO_0102</td>\n",
       "      <td>176</td>\n",
       "    </tr>\n",
       "    <tr>\n",
       "      <td>https://datos.gob.ar/series/api/series/?ids=148.3_INUCLEONAL_DICI_M_19</td>\n",
       "      <td>169</td>\n",
       "    </tr>\n",
       "    <tr>\n",
       "      <td>https://datos.gob.ar/series/api/search/?offset=0&amp;limit=10&amp;catalog_id=modernizacion</td>\n",
       "      <td>164</td>\n",
       "    </tr>\n",
       "    <tr>\n",
       "      <td>https://datos.gob.ar/series/api/search/?q=IPC</td>\n",
       "      <td>130</td>\n",
       "    </tr>\n",
       "    <tr>\n",
       "      <td>https://www.datos.gob.ar/series/api</td>\n",
       "      <td>127</td>\n",
       "    </tr>\n",
       "    <tr>\n",
       "      <td>https://datos.gob.ar/series/api/search/?offset=0&amp;limit=10&amp;catalog_id=agroindustria</td>\n",
       "      <td>126</td>\n",
       "    </tr>\n",
       "    <tr>\n",
       "      <td>https://datos.gob.ar/series/api/search/?q=cemento&amp;offset=0&amp;limit=10</td>\n",
       "      <td>123</td>\n",
       "    </tr>\n",
       "  </tbody>\n",
       "</table>\n",
       "</div>"
      ],
      "text/plain": [
       "                                                    ip_address\n",
       "referer                                                       \n",
       "https://www.minhacienda.gob.ar/series-tiempo-ar...       34089\n",
       "https://datos.gob.ar/series/api                          18542\n",
       "http://localhost:3000/                                    2134\n",
       "http://datos.salud.gob.ar/series/api                      2099\n",
       "https://www.minhacienda.gob.ar/datos/                      673\n",
       "http://localhost/dataset/federado-balance-pagos...         668\n",
       "https://datos.agroindustria.gob.ar/series/api              638\n",
       "https://datos.gob.ar/series/api/series/?ids=148...         635\n",
       "https://datos.agroindustria.gob.ar/series/api/s...         503\n",
       "https://www.minhacienda.gob.ar/                            374\n",
       "https://datosgobar.github.io/series-tiempo-ar-c...         348\n",
       "https://datos.agroindustria.gob.ar/series/api/s...         329\n",
       "http://localhost/comex/series.php                          322\n",
       "https://datos.agroindustria.gob.ar/series/api/s...         321\n",
       "https://datos.gob.ar/series/api/search/?q=ipc              309\n",
       "https://datos.gob.ar/series/api/search/?=0&limi...         301\n",
       "https://datosgobar.github.io/series-tiempo-ar-e...         300\n",
       "https://datosgobar.github.io/series-tiempo-ar-v...         286\n",
       "https://datosgobar.github.io/series-tiempo-ar-e...         261\n",
       "https://datos.gob.ar/series/api/search/?offset=...         231\n",
       "https://datos.gob.ar/series/api/search/?q=                 221\n",
       "https://datosgobar.github.io/series-tiempo-ar-e...         214\n",
       "https://datosgobar.github.io/series-tiempo-ar-e...         209\n",
       "https://datos.agroindustria.gob.ar/series/api/s...         176\n",
       "https://datos.gob.ar/series/api/series/?ids=148...         169\n",
       "https://datos.gob.ar/series/api/search/?offset=...         164\n",
       "https://datos.gob.ar/series/api/search/?q=IPC              130\n",
       "https://www.datos.gob.ar/series/api                        127\n",
       "https://datos.gob.ar/series/api/search/?offset=...         126\n",
       "https://datos.gob.ar/series/api/search/?q=cemen...         123"
      ]
     },
     "execution_count": 16,
     "metadata": {},
     "output_type": "execute_result"
    }
   ],
   "source": [
    "df_analytics.groupby(\"referer\").count()[[\"ip_address\"]].sort_values(\"ip_address\", ascending=False).head(30)"
   ]
  },
  {
   "cell_type": "code",
   "execution_count": 26,
   "metadata": {},
   "outputs": [
    {
     "data": {
      "text/plain": [
       "array(['/georef/api/localidades'], dtype=object)"
      ]
     },
     "execution_count": 26,
     "metadata": {},
     "output_type": "execute_result"
    }
   ],
   "source": [
    "df_analytics[df_analytics.referer == \"https://oceba.gba.gov.ar/tarifa_social/solicitar\"].uri.unique()"
   ]
  },
  {
   "cell_type": "code",
   "execution_count": 27,
   "metadata": {},
   "outputs": [
    {
     "data": {
      "text/plain": [
       "array(['/georef/api/departamentos'], dtype=object)"
      ]
     },
     "execution_count": 27,
     "metadata": {},
     "output_type": "execute_result"
    }
   ],
   "source": [
    "df_analytics[df_analytics.referer == \"https://mi.argentina.gob.ar/salud/centros-de-salud\"].uri.unique()"
   ]
  },
  {
   "cell_type": "code",
   "execution_count": null,
   "metadata": {},
   "outputs": [],
   "source": []
  }
 ],
 "metadata": {
  "kernelspec": {
   "display_name": "Python 3",
   "language": "python",
   "name": "python3"
  },
  "language_info": {
   "codemirror_mode": {
    "name": "ipython",
    "version": 3
   },
   "file_extension": ".py",
   "mimetype": "text/x-python",
   "name": "python",
   "nbconvert_exporter": "python",
   "pygments_lexer": "ipython3",
   "version": "3.7.3"
  },
  "toc": {
   "colors": {
    "hover_highlight": "#DAA520",
    "running_highlight": "#FF0000",
    "selected_highlight": "#FFD700"
   },
   "moveMenuLeft": true,
   "nav_menu": {
    "height": "12px",
    "width": "252px"
   },
   "navigate_menu": true,
   "number_sections": true,
   "sideBar": true,
   "threshold": 4,
   "toc_cell": false,
   "toc_section_display": "block",
   "toc_window_display": false
  }
 },
 "nbformat": 4,
 "nbformat_minor": 2
}
