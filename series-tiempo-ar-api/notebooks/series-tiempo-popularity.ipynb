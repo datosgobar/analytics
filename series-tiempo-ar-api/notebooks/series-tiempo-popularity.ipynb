{
 "cells": [
  {
   "cell_type": "code",
   "execution_count": 13,
   "metadata": {},
   "outputs": [],
   "source": [
    "import sys\n",
    "import os\n",
    "import locale\n",
    "import glob\n",
    "import pandas as pd\n",
    "import matplotlib.pyplot  as plt\n",
    "%matplotlib inline\n",
    "\n",
    "import arrow\n",
    "import analytics_tools\n",
    "\n",
    "module_path = os.path.abspath(os.path.join('../../tools'))\n",
    "if module_path not in sys.path:\n",
    "    sys.path.append(module_path)"
   ]
  },
  {
   "cell_type": "code",
   "execution_count": 14,
   "metadata": {},
   "outputs": [],
   "source": [
    "midpoint = lambda x: (np.max(x)+ np.min(x))/2\n",
    "log_midpoint = lambda x: np.power(10,((np.log10(np.max(x))+np.log10(np.min(x)))/2))\n",
    "\n",
    "def read_files_to_df(directory, cols, start_date=None):\n",
    "    \"\"\"Lee CSVs de misma estructura en un directorio a un solo DataFrame.\"\"\"\n",
    "    \n",
    "    start_date = start_date or arrow.now().shift(months=-3).format(\"YYYY-MM-DD\")\n",
    "    file_pattern = os.path.join(directory, \"*.csv\") \n",
    "    filtered_files = [\n",
    "        file for file in glob.glob(file_pattern) \n",
    "        if arrow.get(file.split(\"_\")[1].split(\".\")[0]) > arrow.get(start_date)\n",
    "    ]\n",
    "\n",
    "    dfs = [pd.read_csv(file, usecols = cols, encoding=\"utf8\", parse_dates=True)\n",
    "           for file in filtered_files]\n",
    "        \n",
    "    return pd.concat(dfs, axis=0)"
   ]
  },
  {
   "cell_type": "code",
   "execution_count": 74,
   "metadata": {},
   "outputs": [],
   "source": [
    "# filtro las columnas no usadas. (al 2019-08-08 hay 240MB de diferencia)\n",
    "curated_fields = ['id', 'ip_address', 'host', 'uri', 'querystring', 'start_time',\n",
    "      'status_code', 'user_agent',\n",
    "       'x_source', \"referer\"]"
   ]
  },
  {
   "cell_type": "code",
   "execution_count": 75,
   "metadata": {},
   "outputs": [],
   "source": [
    "analytics_tools.update_analytics()"
   ]
  },
  {
   "cell_type": "code",
   "execution_count": 78,
   "metadata": {},
   "outputs": [
    {
     "name": "stderr",
     "output_type": "stream",
     "text": [
      "/Users/abenassi/anaconda/envs/analytics/lib/python3.7/site-packages/ipykernel_launcher.py:17: FutureWarning: Sorting because non-concatenation axis is not aligned. A future version\n",
      "of pandas will change to not sort by default.\n",
      "\n",
      "To accept the future behavior, pass 'sort=False'.\n",
      "\n",
      "To retain the current behavior and silence the warning, pass 'sort=True'.\n",
      "\n"
     ]
    }
   ],
   "source": [
    "\n",
    "# Cargo csv's\n",
    "# df_analytics = read_files_to_df('/home/melik/sdt-analytics-download/')\n",
    "df_analytics = read_files_to_df(analytics_tools.DIR_DATA_SDT, None, start_date=\"2019-07-01\")"
   ]
  },
  {
   "cell_type": "code",
   "execution_count": 79,
   "metadata": {},
   "outputs": [
    {
     "data": {
      "text/html": [
       "<div>\n",
       "<style scoped>\n",
       "    .dataframe tbody tr th:only-of-type {\n",
       "        vertical-align: middle;\n",
       "    }\n",
       "\n",
       "    .dataframe tbody tr th {\n",
       "        vertical-align: top;\n",
       "    }\n",
       "\n",
       "    .dataframe thead th {\n",
       "        text-align: right;\n",
       "    }\n",
       "</style>\n",
       "<table border=\"1\" class=\"dataframe\">\n",
       "  <thead>\n",
       "    <tr style=\"text-align: right;\">\n",
       "      <th></th>\n",
       "      <th>api_data</th>\n",
       "      <th>host</th>\n",
       "      <th>id</th>\n",
       "      <th>ip_address</th>\n",
       "      <th>querystring</th>\n",
       "      <th>referer</th>\n",
       "      <th>request_method</th>\n",
       "      <th>request_time</th>\n",
       "      <th>start_time</th>\n",
       "      <th>status_code</th>\n",
       "      <th>token</th>\n",
       "      <th>uri</th>\n",
       "      <th>user_agent</th>\n",
       "      <th>x_source</th>\n",
       "    </tr>\n",
       "  </thead>\n",
       "  <tbody>\n",
       "    <tr>\n",
       "      <td>0</td>\n",
       "      <td>series-tiempo-prod</td>\n",
       "      <td>apis.datos.gob.ar</td>\n",
       "      <td>16273203</td>\n",
       "      <td>168.101.25.104</td>\n",
       "      <td>ids=3.2_OGP_D_2004_T_17&amp;limit=1000&amp;sort=desc</td>\n",
       "      <td>NaN</td>\n",
       "      <td>GET</td>\n",
       "      <td>0.444</td>\n",
       "      <td>2019-07-29 03:00:02+00:00</td>\n",
       "      <td>200</td>\n",
       "      <td>NaN</td>\n",
       "      <td>/series/api/series/</td>\n",
       "      <td>Python-urllib/2.7</td>\n",
       "      <td>NaN</td>\n",
       "    </tr>\n",
       "    <tr>\n",
       "      <td>1</td>\n",
       "      <td>series-tiempo-prod</td>\n",
       "      <td>apis.datos.gob.ar</td>\n",
       "      <td>16273202</td>\n",
       "      <td>168.101.25.104</td>\n",
       "      <td>ids=143.3_ICE_SER_VM_2004_A_34&amp;limit=1000&amp;sort...</td>\n",
       "      <td>NaN</td>\n",
       "      <td>GET</td>\n",
       "      <td>0.471</td>\n",
       "      <td>2019-07-29 03:00:02+00:00</td>\n",
       "      <td>200</td>\n",
       "      <td>NaN</td>\n",
       "      <td>/series/api/series/</td>\n",
       "      <td>Python-urllib/2.7</td>\n",
       "      <td>NaN</td>\n",
       "    </tr>\n",
       "    <tr>\n",
       "      <td>2</td>\n",
       "      <td>series-tiempo-prod</td>\n",
       "      <td>apis.datos.gob.ar</td>\n",
       "      <td>16273206</td>\n",
       "      <td>168.101.25.104</td>\n",
       "      <td>ids=143.3_NO_PR_2004_A_31&amp;limit=1000&amp;sort=desc</td>\n",
       "      <td>NaN</td>\n",
       "      <td>GET</td>\n",
       "      <td>0.470</td>\n",
       "      <td>2019-07-29 03:00:03+00:00</td>\n",
       "      <td>200</td>\n",
       "      <td>NaN</td>\n",
       "      <td>/series/api/series/</td>\n",
       "      <td>Python-urllib/2.7</td>\n",
       "      <td>NaN</td>\n",
       "    </tr>\n",
       "    <tr>\n",
       "      <td>3</td>\n",
       "      <td>series-tiempo-prod</td>\n",
       "      <td>apis.datos.gob.ar</td>\n",
       "      <td>16273204</td>\n",
       "      <td>168.101.25.104</td>\n",
       "      <td>ids=3.2_DGCP_D_2004_T_30&amp;limit=1000&amp;sort=desc</td>\n",
       "      <td>NaN</td>\n",
       "      <td>GET</td>\n",
       "      <td>0.476</td>\n",
       "      <td>2019-07-29 03:00:03+00:00</td>\n",
       "      <td>200</td>\n",
       "      <td>NaN</td>\n",
       "      <td>/series/api/series/</td>\n",
       "      <td>Python-urllib/2.7</td>\n",
       "      <td>NaN</td>\n",
       "    </tr>\n",
       "    <tr>\n",
       "      <td>4</td>\n",
       "      <td>series-tiempo-prod</td>\n",
       "      <td>apis.datos.gob.ar</td>\n",
       "      <td>16273208</td>\n",
       "      <td>168.101.25.104</td>\n",
       "      <td>ids=14.2_E_M_2004_0_3&amp;limit=1000&amp;sort=desc</td>\n",
       "      <td>NaN</td>\n",
       "      <td>GET</td>\n",
       "      <td>0.457</td>\n",
       "      <td>2019-07-29 03:00:04+00:00</td>\n",
       "      <td>200</td>\n",
       "      <td>NaN</td>\n",
       "      <td>/series/api/series/</td>\n",
       "      <td>Python-urllib/2.7</td>\n",
       "      <td>NaN</td>\n",
       "    </tr>\n",
       "    <tr>\n",
       "      <td>...</td>\n",
       "      <td>...</td>\n",
       "      <td>...</td>\n",
       "      <td>...</td>\n",
       "      <td>...</td>\n",
       "      <td>...</td>\n",
       "      <td>...</td>\n",
       "      <td>...</td>\n",
       "      <td>...</td>\n",
       "      <td>...</td>\n",
       "      <td>...</td>\n",
       "      <td>...</td>\n",
       "      <td>...</td>\n",
       "      <td>...</td>\n",
       "      <td>...</td>\n",
       "    </tr>\n",
       "    <tr>\n",
       "      <td>14456</td>\n",
       "      <td>series-tiempo-prod</td>\n",
       "      <td>apis.datos.gob.ar</td>\n",
       "      <td>21223288</td>\n",
       "      <td>190.15.220.215</td>\n",
       "      <td>ids=45.2_ECTDT_0_T_33&amp;limit=1000&amp;sort=desc</td>\n",
       "      <td>https://www.minhacienda.gob.ar/series-tiempo-a...</td>\n",
       "      <td>GET</td>\n",
       "      <td>0.694</td>\n",
       "      <td>2019-10-15 02:59:52+00:00</td>\n",
       "      <td>200</td>\n",
       "      <td>NaN</td>\n",
       "      <td>/series/api/series/</td>\n",
       "      <td>Mozilla/5.0 (Windows NT 10.0; Win64; x64) Appl...</td>\n",
       "      <td>NaN</td>\n",
       "    </tr>\n",
       "    <tr>\n",
       "      <td>14457</td>\n",
       "      <td>series-tiempo-prod</td>\n",
       "      <td>apis.datos.gob.ar</td>\n",
       "      <td>21223287</td>\n",
       "      <td>190.15.220.215</td>\n",
       "      <td>ids=131.1_FET_0_0_12&amp;limit=1000&amp;sort=desc</td>\n",
       "      <td>https://www.minhacienda.gob.ar/series-tiempo-a...</td>\n",
       "      <td>GET</td>\n",
       "      <td>0.403</td>\n",
       "      <td>2019-10-15 02:59:52+00:00</td>\n",
       "      <td>200</td>\n",
       "      <td>NaN</td>\n",
       "      <td>/series/api/series/</td>\n",
       "      <td>Mozilla/5.0 (Windows NT 10.0; Win64; x64) Appl...</td>\n",
       "      <td>NaN</td>\n",
       "    </tr>\n",
       "    <tr>\n",
       "      <td>14458</td>\n",
       "      <td>series-tiempo-prod</td>\n",
       "      <td>apis.datos.gob.ar</td>\n",
       "      <td>21223286</td>\n",
       "      <td>190.15.220.215</td>\n",
       "      <td>ids=74.3_ISC_0_M_19&amp;limit=1000&amp;sort=desc</td>\n",
       "      <td>https://www.minhacienda.gob.ar/series-tiempo-a...</td>\n",
       "      <td>GET</td>\n",
       "      <td>0.374</td>\n",
       "      <td>2019-10-15 02:59:52+00:00</td>\n",
       "      <td>200</td>\n",
       "      <td>NaN</td>\n",
       "      <td>/series/api/series/</td>\n",
       "      <td>Mozilla/5.0 (Windows NT 10.0; Win64; x64) Appl...</td>\n",
       "      <td>NaN</td>\n",
       "    </tr>\n",
       "    <tr>\n",
       "      <td>14459</td>\n",
       "      <td>series-tiempo-prod</td>\n",
       "      <td>apis.datos.gob.ar</td>\n",
       "      <td>21223285</td>\n",
       "      <td>190.15.220.215</td>\n",
       "      <td>ids=143.3_ICE_SER_VM_2004_A_34&amp;limit=1000&amp;sort...</td>\n",
       "      <td>https://www.minhacienda.gob.ar/series-tiempo-a...</td>\n",
       "      <td>GET</td>\n",
       "      <td>0.390</td>\n",
       "      <td>2019-10-15 02:59:52+00:00</td>\n",
       "      <td>200</td>\n",
       "      <td>NaN</td>\n",
       "      <td>/series/api/series/</td>\n",
       "      <td>Mozilla/5.0 (Windows NT 10.0; Win64; x64) Appl...</td>\n",
       "      <td>NaN</td>\n",
       "    </tr>\n",
       "    <tr>\n",
       "      <td>14460</td>\n",
       "      <td>series-tiempo-prod</td>\n",
       "      <td>apis.datos.gob.ar</td>\n",
       "      <td>21223294</td>\n",
       "      <td>190.15.220.215</td>\n",
       "      <td>ids=154.2_COBAOBA_S_0_0_7&amp;limit=1000&amp;sort=desc</td>\n",
       "      <td>https://www.minhacienda.gob.ar/series-tiempo-a...</td>\n",
       "      <td>GET</td>\n",
       "      <td>0.734</td>\n",
       "      <td>2019-10-15 02:59:53+00:00</td>\n",
       "      <td>200</td>\n",
       "      <td>NaN</td>\n",
       "      <td>/series/api/series/</td>\n",
       "      <td>Mozilla/5.0 (Windows NT 10.0; Win64; x64) Appl...</td>\n",
       "      <td>NaN</td>\n",
       "    </tr>\n",
       "  </tbody>\n",
       "</table>\n",
       "<p>2255544 rows × 14 columns</p>\n",
       "</div>"
      ],
      "text/plain": [
       "                 api_data               host        id      ip_address  \\\n",
       "0      series-tiempo-prod  apis.datos.gob.ar  16273203  168.101.25.104   \n",
       "1      series-tiempo-prod  apis.datos.gob.ar  16273202  168.101.25.104   \n",
       "2      series-tiempo-prod  apis.datos.gob.ar  16273206  168.101.25.104   \n",
       "3      series-tiempo-prod  apis.datos.gob.ar  16273204  168.101.25.104   \n",
       "4      series-tiempo-prod  apis.datos.gob.ar  16273208  168.101.25.104   \n",
       "...                   ...                ...       ...             ...   \n",
       "14456  series-tiempo-prod  apis.datos.gob.ar  21223288  190.15.220.215   \n",
       "14457  series-tiempo-prod  apis.datos.gob.ar  21223287  190.15.220.215   \n",
       "14458  series-tiempo-prod  apis.datos.gob.ar  21223286  190.15.220.215   \n",
       "14459  series-tiempo-prod  apis.datos.gob.ar  21223285  190.15.220.215   \n",
       "14460  series-tiempo-prod  apis.datos.gob.ar  21223294  190.15.220.215   \n",
       "\n",
       "                                             querystring  \\\n",
       "0           ids=3.2_OGP_D_2004_T_17&limit=1000&sort=desc   \n",
       "1      ids=143.3_ICE_SER_VM_2004_A_34&limit=1000&sort...   \n",
       "2         ids=143.3_NO_PR_2004_A_31&limit=1000&sort=desc   \n",
       "3          ids=3.2_DGCP_D_2004_T_30&limit=1000&sort=desc   \n",
       "4             ids=14.2_E_M_2004_0_3&limit=1000&sort=desc   \n",
       "...                                                  ...   \n",
       "14456         ids=45.2_ECTDT_0_T_33&limit=1000&sort=desc   \n",
       "14457          ids=131.1_FET_0_0_12&limit=1000&sort=desc   \n",
       "14458           ids=74.3_ISC_0_M_19&limit=1000&sort=desc   \n",
       "14459  ids=143.3_ICE_SER_VM_2004_A_34&limit=1000&sort...   \n",
       "14460     ids=154.2_COBAOBA_S_0_0_7&limit=1000&sort=desc   \n",
       "\n",
       "                                                 referer request_method  \\\n",
       "0                                                    NaN            GET   \n",
       "1                                                    NaN            GET   \n",
       "2                                                    NaN            GET   \n",
       "3                                                    NaN            GET   \n",
       "4                                                    NaN            GET   \n",
       "...                                                  ...            ...   \n",
       "14456  https://www.minhacienda.gob.ar/series-tiempo-a...            GET   \n",
       "14457  https://www.minhacienda.gob.ar/series-tiempo-a...            GET   \n",
       "14458  https://www.minhacienda.gob.ar/series-tiempo-a...            GET   \n",
       "14459  https://www.minhacienda.gob.ar/series-tiempo-a...            GET   \n",
       "14460  https://www.minhacienda.gob.ar/series-tiempo-a...            GET   \n",
       "\n",
       "       request_time                 start_time  status_code  token  \\\n",
       "0             0.444  2019-07-29 03:00:02+00:00          200    NaN   \n",
       "1             0.471  2019-07-29 03:00:02+00:00          200    NaN   \n",
       "2             0.470  2019-07-29 03:00:03+00:00          200    NaN   \n",
       "3             0.476  2019-07-29 03:00:03+00:00          200    NaN   \n",
       "4             0.457  2019-07-29 03:00:04+00:00          200    NaN   \n",
       "...             ...                        ...          ...    ...   \n",
       "14456         0.694  2019-10-15 02:59:52+00:00          200    NaN   \n",
       "14457         0.403  2019-10-15 02:59:52+00:00          200    NaN   \n",
       "14458         0.374  2019-10-15 02:59:52+00:00          200    NaN   \n",
       "14459         0.390  2019-10-15 02:59:52+00:00          200    NaN   \n",
       "14460         0.734  2019-10-15 02:59:53+00:00          200    NaN   \n",
       "\n",
       "                       uri                                         user_agent  \\\n",
       "0      /series/api/series/                                  Python-urllib/2.7   \n",
       "1      /series/api/series/                                  Python-urllib/2.7   \n",
       "2      /series/api/series/                                  Python-urllib/2.7   \n",
       "3      /series/api/series/                                  Python-urllib/2.7   \n",
       "4      /series/api/series/                                  Python-urllib/2.7   \n",
       "...                    ...                                                ...   \n",
       "14456  /series/api/series/  Mozilla/5.0 (Windows NT 10.0; Win64; x64) Appl...   \n",
       "14457  /series/api/series/  Mozilla/5.0 (Windows NT 10.0; Win64; x64) Appl...   \n",
       "14458  /series/api/series/  Mozilla/5.0 (Windows NT 10.0; Win64; x64) Appl...   \n",
       "14459  /series/api/series/  Mozilla/5.0 (Windows NT 10.0; Win64; x64) Appl...   \n",
       "14460  /series/api/series/  Mozilla/5.0 (Windows NT 10.0; Win64; x64) Appl...   \n",
       "\n",
       "      x_source  \n",
       "0          NaN  \n",
       "1          NaN  \n",
       "2          NaN  \n",
       "3          NaN  \n",
       "4          NaN  \n",
       "...        ...  \n",
       "14456      NaN  \n",
       "14457      NaN  \n",
       "14458      NaN  \n",
       "14459      NaN  \n",
       "14460      NaN  \n",
       "\n",
       "[2255544 rows x 14 columns]"
      ]
     },
     "execution_count": 79,
     "metadata": {},
     "output_type": "execute_result"
    }
   ],
   "source": [
    "df_analytics"
   ]
  },
  {
   "cell_type": "code",
   "execution_count": 80,
   "metadata": {},
   "outputs": [],
   "source": [
    "serie_tc = \"168.1_T_CAMBIOR_D_0_0_26\""
   ]
  },
  {
   "cell_type": "code",
   "execution_count": 81,
   "metadata": {},
   "outputs": [
    {
     "data": {
      "text/plain": [
       "80757"
      ]
     },
     "execution_count": 81,
     "metadata": {},
     "output_type": "execute_result"
    }
   ],
   "source": [
    "len(df_analytics[\n",
    "    (pd.notnull(df_analytics.querystring)) &\n",
    "    (df_analytics.querystring.str.contains(serie_tc))\n",
    "])"
   ]
  },
  {
   "cell_type": "code",
   "execution_count": 82,
   "metadata": {},
   "outputs": [],
   "source": [
    "df_tc = df_analytics[\n",
    "    (pd.notnull(df_analytics.querystring)) &\n",
    "    (df_analytics.querystring.str.contains(serie_tc))\n",
    "]"
   ]
  },
  {
   "cell_type": "code",
   "execution_count": 83,
   "metadata": {},
   "outputs": [
    {
     "name": "stderr",
     "output_type": "stream",
     "text": [
      "/Users/abenassi/anaconda/envs/analytics/lib/python3.7/site-packages/ipykernel_launcher.py:1: SettingWithCopyWarning: \n",
      "A value is trying to be set on a copy of a slice from a DataFrame.\n",
      "Try using .loc[row_indexer,col_indexer] = value instead\n",
      "\n",
      "See the caveats in the documentation: http://pandas.pydata.org/pandas-docs/stable/user_guide/indexing.html#returning-a-view-versus-a-copy\n",
      "  \"\"\"Entry point for launching an IPython kernel.\n"
     ]
    }
   ],
   "source": [
    "df_tc[\"start_time\"] = pd.to_datetime(df_tc.start_time)"
   ]
  },
  {
   "cell_type": "code",
   "execution_count": 84,
   "metadata": {},
   "outputs": [
    {
     "name": "stderr",
     "output_type": "stream",
     "text": [
      "/Users/abenassi/anaconda/envs/analytics/lib/python3.7/site-packages/ipykernel_launcher.py:1: SettingWithCopyWarning: \n",
      "A value is trying to be set on a copy of a slice from a DataFrame.\n",
      "Try using .loc[row_indexer,col_indexer] = value instead\n",
      "\n",
      "See the caveats in the documentation: http://pandas.pydata.org/pandas-docs/stable/user_guide/indexing.html#returning-a-view-versus-a-copy\n",
      "  \"\"\"Entry point for launching an IPython kernel.\n"
     ]
    }
   ],
   "source": [
    "df_tc[\"day\"] = df_tc.start_time.dt.date"
   ]
  },
  {
   "cell_type": "code",
   "execution_count": 85,
   "metadata": {},
   "outputs": [],
   "source": [
    "serie_tc_hits = df_tc.groupby(\"day\").count()[\"id\"]"
   ]
  },
  {
   "cell_type": "code",
   "execution_count": 86,
   "metadata": {},
   "outputs": [
    {
     "data": {
      "text/plain": [
       "<matplotlib.axes._subplots.AxesSubplot at 0x120882550>"
      ]
     },
     "execution_count": 86,
     "metadata": {},
     "output_type": "execute_result"
    },
    {
     "data": {
      "image/png": "[encoded data removed]",
      "text/plain": [
       "<Figure size 432x288 with 1 Axes>"
      ]
     },
     "metadata": {
      "needs_background": "light"
     },
     "output_type": "display_data"
    }
   ],
   "source": [
    "serie_tc_hits.plot()"
   ]
  },
  {
   "cell_type": "code",
   "execution_count": 25,
   "metadata": {},
   "outputs": [],
   "source": [
    "google_trends_dolar_url = \"https://trends.google.com/trends/api/widgetdata/multiline/csv?req=%7B%22time%22%3A%222019-08-01%202019-10-15%22%2C%22resolution%22%3A%22DAY%22%2C%22locale%22%3A%22es%22%2C%22comparisonItem%22%3A%5B%7B%22geo%22%3A%7B%22country%22%3A%22AR%22%7D%2C%22complexKeywordsRestriction%22%3A%7B%22keyword%22%3A%5B%7B%22type%22%3A%22BROAD%22%2C%22value%22%3A%22dolar%22%7D%5D%7D%7D%5D%2C%22requestOptions%22%3A%7B%22property%22%3A%22%22%2C%22backend%22%3A%22IZG%22%2C%22category%22%3A0%7D%7D&token=APP6_UEAAAAAXadD6RXy9iXijA9MYOZccTOXEy3wP3iq&tz=180\""
   ]
  },
  {
   "cell_type": "code",
   "execution_count": 26,
   "metadata": {},
   "outputs": [],
   "source": [
    "df_google_trend = pd.read_csv(google_trends_dolar_url)"
   ]
  },
  {
   "cell_type": "code",
   "execution_count": 27,
   "metadata": {},
   "outputs": [
    {
     "data": {
      "text/html": [
       "<div>\n",
       "<style scoped>\n",
       "    .dataframe tbody tr th:only-of-type {\n",
       "        vertical-align: middle;\n",
       "    }\n",
       "\n",
       "    .dataframe tbody tr th {\n",
       "        vertical-align: top;\n",
       "    }\n",
       "\n",
       "    .dataframe thead th {\n",
       "        text-align: right;\n",
       "    }\n",
       "</style>\n",
       "<table border=\"1\" class=\"dataframe\">\n",
       "  <thead>\n",
       "    <tr style=\"text-align: right;\">\n",
       "      <th></th>\n",
       "      <th>Category: All categories</th>\n",
       "    </tr>\n",
       "  </thead>\n",
       "  <tbody>\n",
       "    <tr>\n",
       "      <td>Day</td>\n",
       "      <td>dolar: (Argentina)</td>\n",
       "    </tr>\n",
       "    <tr>\n",
       "      <td>2019-08-01</td>\n",
       "      <td>10</td>\n",
       "    </tr>\n",
       "    <tr>\n",
       "      <td>2019-08-02</td>\n",
       "      <td>10</td>\n",
       "    </tr>\n",
       "    <tr>\n",
       "      <td>2019-08-03</td>\n",
       "      <td>5</td>\n",
       "    </tr>\n",
       "    <tr>\n",
       "      <td>2019-08-04</td>\n",
       "      <td>4</td>\n",
       "    </tr>\n",
       "    <tr>\n",
       "      <td>...</td>\n",
       "      <td>...</td>\n",
       "    </tr>\n",
       "    <tr>\n",
       "      <td>2019-10-08</td>\n",
       "      <td>9</td>\n",
       "    </tr>\n",
       "    <tr>\n",
       "      <td>2019-10-09</td>\n",
       "      <td>7</td>\n",
       "    </tr>\n",
       "    <tr>\n",
       "      <td>2019-10-10</td>\n",
       "      <td>8</td>\n",
       "    </tr>\n",
       "    <tr>\n",
       "      <td>2019-10-11</td>\n",
       "      <td>8</td>\n",
       "    </tr>\n",
       "    <tr>\n",
       "      <td>2019-10-12</td>\n",
       "      <td>4</td>\n",
       "    </tr>\n",
       "  </tbody>\n",
       "</table>\n",
       "<p>74 rows × 1 columns</p>\n",
       "</div>"
      ],
      "text/plain": [
       "           Category: All categories\n",
       "Day              dolar: (Argentina)\n",
       "2019-08-01                       10\n",
       "2019-08-02                       10\n",
       "2019-08-03                        5\n",
       "2019-08-04                        4\n",
       "...                             ...\n",
       "2019-10-08                        9\n",
       "2019-10-09                        7\n",
       "2019-10-10                        8\n",
       "2019-10-11                        8\n",
       "2019-10-12                        4\n",
       "\n",
       "[74 rows x 1 columns]"
      ]
     },
     "execution_count": 27,
     "metadata": {},
     "output_type": "execute_result"
    }
   ],
   "source": [
    "df_google_trend"
   ]
  },
  {
   "cell_type": "code",
   "execution_count": 28,
   "metadata": {},
   "outputs": [
    {
     "data": {
      "text/plain": [
       "Index(['Day', '2019-08-01', '2019-08-02', '2019-08-03', '2019-08-04',\n",
       "       '2019-08-05', '2019-08-06', '2019-08-07', '2019-08-08', '2019-08-09',\n",
       "       '2019-08-10', '2019-08-11', '2019-08-12', '2019-08-13', '2019-08-14',\n",
       "       '2019-08-15', '2019-08-16', '2019-08-17', '2019-08-18', '2019-08-19',\n",
       "       '2019-08-20', '2019-08-21', '2019-08-22', '2019-08-23', '2019-08-24',\n",
       "       '2019-08-25', '2019-08-26', '2019-08-27', '2019-08-28', '2019-08-29',\n",
       "       '2019-08-30', '2019-08-31', '2019-09-01', '2019-09-02', '2019-09-03',\n",
       "       '2019-09-04', '2019-09-05', '2019-09-06', '2019-09-07', '2019-09-08',\n",
       "       '2019-09-09', '2019-09-10', '2019-09-11', '2019-09-12', '2019-09-13',\n",
       "       '2019-09-14', '2019-09-15', '2019-09-16', '2019-09-17', '2019-09-18',\n",
       "       '2019-09-19', '2019-09-20', '2019-09-21', '2019-09-22', '2019-09-23',\n",
       "       '2019-09-24', '2019-09-25', '2019-09-26', '2019-09-27', '2019-09-28',\n",
       "       '2019-09-29', '2019-09-30', '2019-10-01', '2019-10-02', '2019-10-03',\n",
       "       '2019-10-04', '2019-10-05', '2019-10-06', '2019-10-07', '2019-10-08',\n",
       "       '2019-10-09', '2019-10-10', '2019-10-11', '2019-10-12'],\n",
       "      dtype='object')"
      ]
     },
     "execution_count": 28,
     "metadata": {},
     "output_type": "execute_result"
    }
   ],
   "source": [
    "df_google_trend[\"Category: All categories\"].index"
   ]
  },
  {
   "cell_type": "code",
   "execution_count": 29,
   "metadata": {},
   "outputs": [
    {
     "data": {
      "text/plain": [
       "DatetimeIndex(['2019-07-02', '2019-07-03', '2019-07-04', '2019-07-05',\n",
       "               '2019-07-06', '2019-07-07', '2019-07-08', '2019-07-09',\n",
       "               '2019-07-10', '2019-07-11',\n",
       "               ...\n",
       "               '2019-10-06', '2019-10-07', '2019-10-08', '2019-10-09',\n",
       "               '2019-10-10', '2019-10-11', '2019-10-12', '2019-10-13',\n",
       "               '2019-10-14', '2019-10-15'],\n",
       "              dtype='datetime64[ns]', name='day', length=106, freq=None)"
      ]
     },
     "execution_count": 29,
     "metadata": {},
     "output_type": "execute_result"
    }
   ],
   "source": [
    "df_api_serie = serie_tc_hits.to_frame()\n",
    "df_api_serie.index = pd.to_datetime(df_api_serie.index)\n",
    "df_api_serie.index"
   ]
  },
  {
   "cell_type": "code",
   "execution_count": 30,
   "metadata": {},
   "outputs": [
    {
     "data": {
      "text/plain": [
       "DatetimeIndex(['2019-08-01', '2019-08-02', '2019-08-03', '2019-08-04',\n",
       "               '2019-08-05', '2019-08-06', '2019-08-07', '2019-08-08',\n",
       "               '2019-08-09', '2019-08-10', '2019-08-11', '2019-08-12',\n",
       "               '2019-08-13', '2019-08-14', '2019-08-15', '2019-08-16',\n",
       "               '2019-08-17', '2019-08-18', '2019-08-19', '2019-08-20',\n",
       "               '2019-08-21', '2019-08-22', '2019-08-23', '2019-08-24',\n",
       "               '2019-08-25', '2019-08-26', '2019-08-27', '2019-08-28',\n",
       "               '2019-08-29', '2019-08-30', '2019-08-31', '2019-09-01',\n",
       "               '2019-09-02', '2019-09-03', '2019-09-04', '2019-09-05',\n",
       "               '2019-09-06', '2019-09-07', '2019-09-08', '2019-09-09',\n",
       "               '2019-09-10', '2019-09-11', '2019-09-12', '2019-09-13',\n",
       "               '2019-09-14', '2019-09-15', '2019-09-16', '2019-09-17',\n",
       "               '2019-09-18', '2019-09-19', '2019-09-20', '2019-09-21',\n",
       "               '2019-09-22', '2019-09-23', '2019-09-24', '2019-09-25',\n",
       "               '2019-09-26', '2019-09-27', '2019-09-28', '2019-09-29',\n",
       "               '2019-09-30', '2019-10-01', '2019-10-02', '2019-10-03',\n",
       "               '2019-10-04', '2019-10-05', '2019-10-06', '2019-10-07',\n",
       "               '2019-10-08', '2019-10-09', '2019-10-10', '2019-10-11',\n",
       "               '2019-10-12'],\n",
       "              dtype='datetime64[ns]', freq=None)"
      ]
     },
     "execution_count": 30,
     "metadata": {},
     "output_type": "execute_result"
    }
   ],
   "source": [
    "df_google_serie = df_google_trend[\"Category: All categories\"].to_frame()\n",
    "df_google_serie = df_google_serie[df_google_serie.index != \"Day\"]\n",
    "df_google_serie.index = pd.to_datetime(df_google_serie.index)\n",
    "df_google_serie[\"Category: All categories\"] = df_google_serie[\"Category: All categories\"].astype(int)\n",
    "df_google_serie.index"
   ]
  },
  {
   "cell_type": "code",
   "execution_count": 32,
   "metadata": {},
   "outputs": [
    {
     "data": {
      "text/html": [
       "<div>\n",
       "<style scoped>\n",
       "    .dataframe tbody tr th:only-of-type {\n",
       "        vertical-align: middle;\n",
       "    }\n",
       "\n",
       "    .dataframe tbody tr th {\n",
       "        vertical-align: top;\n",
       "    }\n",
       "\n",
       "    .dataframe thead th {\n",
       "        text-align: right;\n",
       "    }\n",
       "</style>\n",
       "<table border=\"1\" class=\"dataframe\">\n",
       "  <thead>\n",
       "    <tr style=\"text-align: right;\">\n",
       "      <th></th>\n",
       "      <th>id</th>\n",
       "      <th>Category: All categories</th>\n",
       "    </tr>\n",
       "  </thead>\n",
       "  <tbody>\n",
       "    <tr>\n",
       "      <td>2019-08-01</td>\n",
       "      <td>718</td>\n",
       "      <td>10</td>\n",
       "    </tr>\n",
       "    <tr>\n",
       "      <td>2019-08-02</td>\n",
       "      <td>667</td>\n",
       "      <td>10</td>\n",
       "    </tr>\n",
       "    <tr>\n",
       "      <td>2019-08-03</td>\n",
       "      <td>556</td>\n",
       "      <td>5</td>\n",
       "    </tr>\n",
       "    <tr>\n",
       "      <td>2019-08-04</td>\n",
       "      <td>422</td>\n",
       "      <td>4</td>\n",
       "    </tr>\n",
       "    <tr>\n",
       "      <td>2019-08-05</td>\n",
       "      <td>1282</td>\n",
       "      <td>13</td>\n",
       "    </tr>\n",
       "    <tr>\n",
       "      <td>...</td>\n",
       "      <td>...</td>\n",
       "      <td>...</td>\n",
       "    </tr>\n",
       "    <tr>\n",
       "      <td>2019-10-08</td>\n",
       "      <td>1185</td>\n",
       "      <td>9</td>\n",
       "    </tr>\n",
       "    <tr>\n",
       "      <td>2019-10-09</td>\n",
       "      <td>784</td>\n",
       "      <td>7</td>\n",
       "    </tr>\n",
       "    <tr>\n",
       "      <td>2019-10-10</td>\n",
       "      <td>799</td>\n",
       "      <td>8</td>\n",
       "    </tr>\n",
       "    <tr>\n",
       "      <td>2019-10-11</td>\n",
       "      <td>760</td>\n",
       "      <td>8</td>\n",
       "    </tr>\n",
       "    <tr>\n",
       "      <td>2019-10-12</td>\n",
       "      <td>226</td>\n",
       "      <td>4</td>\n",
       "    </tr>\n",
       "  </tbody>\n",
       "</table>\n",
       "<p>73 rows × 2 columns</p>\n",
       "</div>"
      ],
      "text/plain": [
       "              id  Category: All categories\n",
       "2019-08-01   718                        10\n",
       "2019-08-02   667                        10\n",
       "2019-08-03   556                         5\n",
       "2019-08-04   422                         4\n",
       "2019-08-05  1282                        13\n",
       "...          ...                       ...\n",
       "2019-10-08  1185                         9\n",
       "2019-10-09   784                         7\n",
       "2019-10-10   799                         8\n",
       "2019-10-11   760                         8\n",
       "2019-10-12   226                         4\n",
       "\n",
       "[73 rows x 2 columns]"
      ]
     },
     "execution_count": 32,
     "metadata": {},
     "output_type": "execute_result"
    }
   ],
   "source": [
    "df_merged = df_api_serie.merge(df_google_serie, how=\"inner\", right_index=True, left_index=True)\n",
    "df_merged"
   ]
  },
  {
   "cell_type": "code",
   "execution_count": 45,
   "metadata": {},
   "outputs": [],
   "source": [
    "df_merged[\"id_normalizado\"] =  (df_merged[\"id\"] / df_merged[\"id\"].max())*100"
   ]
  },
  {
   "cell_type": "code",
   "execution_count": 69,
   "metadata": {},
   "outputs": [
    {
     "data": {
      "text/html": [
       "<div>\n",
       "<style scoped>\n",
       "    .dataframe tbody tr th:only-of-type {\n",
       "        vertical-align: middle;\n",
       "    }\n",
       "\n",
       "    .dataframe tbody tr th {\n",
       "        vertical-align: top;\n",
       "    }\n",
       "\n",
       "    .dataframe thead th {\n",
       "        text-align: right;\n",
       "    }\n",
       "</style>\n",
       "<table border=\"1\" class=\"dataframe\">\n",
       "  <thead>\n",
       "    <tr style=\"text-align: right;\">\n",
       "      <th></th>\n",
       "      <th>id</th>\n",
       "      <th>Category: All categories</th>\n",
       "      <th>id_normalizado</th>\n",
       "    </tr>\n",
       "  </thead>\n",
       "  <tbody>\n",
       "    <tr>\n",
       "      <td>2019-08-01</td>\n",
       "      <td>718</td>\n",
       "      <td>10</td>\n",
       "      <td>42.814550</td>\n",
       "    </tr>\n",
       "    <tr>\n",
       "      <td>2019-08-02</td>\n",
       "      <td>667</td>\n",
       "      <td>10</td>\n",
       "      <td>39.773405</td>\n",
       "    </tr>\n",
       "    <tr>\n",
       "      <td>2019-08-03</td>\n",
       "      <td>556</td>\n",
       "      <td>5</td>\n",
       "      <td>33.154442</td>\n",
       "    </tr>\n",
       "    <tr>\n",
       "      <td>2019-08-04</td>\n",
       "      <td>422</td>\n",
       "      <td>4</td>\n",
       "      <td>25.163983</td>\n",
       "    </tr>\n",
       "    <tr>\n",
       "      <td>2019-08-05</td>\n",
       "      <td>1282</td>\n",
       "      <td>13</td>\n",
       "      <td>76.446035</td>\n",
       "    </tr>\n",
       "    <tr>\n",
       "      <td>2019-08-06</td>\n",
       "      <td>1447</td>\n",
       "      <td>12</td>\n",
       "      <td>86.285033</td>\n",
       "    </tr>\n",
       "    <tr>\n",
       "      <td>2019-08-07</td>\n",
       "      <td>1677</td>\n",
       "      <td>11</td>\n",
       "      <td>100.000000</td>\n",
       "    </tr>\n",
       "    <tr>\n",
       "      <td>2019-08-08</td>\n",
       "      <td>881</td>\n",
       "      <td>10</td>\n",
       "      <td>52.534287</td>\n",
       "    </tr>\n",
       "    <tr>\n",
       "      <td>2019-08-09</td>\n",
       "      <td>787</td>\n",
       "      <td>10</td>\n",
       "      <td>46.929040</td>\n",
       "    </tr>\n",
       "    <tr>\n",
       "      <td>2019-08-10</td>\n",
       "      <td>778</td>\n",
       "      <td>5</td>\n",
       "      <td>46.392367</td>\n",
       "    </tr>\n",
       "    <tr>\n",
       "      <td>2019-08-11</td>\n",
       "      <td>664</td>\n",
       "      <td>3</td>\n",
       "      <td>39.594514</td>\n",
       "    </tr>\n",
       "    <tr>\n",
       "      <td>2019-08-12</td>\n",
       "      <td>700</td>\n",
       "      <td>100</td>\n",
       "      <td>41.741205</td>\n",
       "    </tr>\n",
       "    <tr>\n",
       "      <td>2019-08-13</td>\n",
       "      <td>750</td>\n",
       "      <td>54</td>\n",
       "      <td>44.722719</td>\n",
       "    </tr>\n",
       "    <tr>\n",
       "      <td>2019-08-14</td>\n",
       "      <td>866</td>\n",
       "      <td>37</td>\n",
       "      <td>51.639833</td>\n",
       "    </tr>\n",
       "    <tr>\n",
       "      <td>2019-08-15</td>\n",
       "      <td>709</td>\n",
       "      <td>38</td>\n",
       "      <td>42.277877</td>\n",
       "    </tr>\n",
       "    <tr>\n",
       "      <td>2019-08-16</td>\n",
       "      <td>597</td>\n",
       "      <td>26</td>\n",
       "      <td>35.599284</td>\n",
       "    </tr>\n",
       "    <tr>\n",
       "      <td>2019-08-17</td>\n",
       "      <td>425</td>\n",
       "      <td>11</td>\n",
       "      <td>25.342874</td>\n",
       "    </tr>\n",
       "    <tr>\n",
       "      <td>2019-08-18</td>\n",
       "      <td>1006</td>\n",
       "      <td>9</td>\n",
       "      <td>59.988074</td>\n",
       "    </tr>\n",
       "    <tr>\n",
       "      <td>2019-08-19</td>\n",
       "      <td>838</td>\n",
       "      <td>13</td>\n",
       "      <td>49.970185</td>\n",
       "    </tr>\n",
       "    <tr>\n",
       "      <td>2019-08-20</td>\n",
       "      <td>1029</td>\n",
       "      <td>28</td>\n",
       "      <td>61.359571</td>\n",
       "    </tr>\n",
       "  </tbody>\n",
       "</table>\n",
       "</div>"
      ],
      "text/plain": [
       "              id  Category: All categories  id_normalizado\n",
       "2019-08-01   718                        10       42.814550\n",
       "2019-08-02   667                        10       39.773405\n",
       "2019-08-03   556                         5       33.154442\n",
       "2019-08-04   422                         4       25.163983\n",
       "2019-08-05  1282                        13       76.446035\n",
       "2019-08-06  1447                        12       86.285033\n",
       "2019-08-07  1677                        11      100.000000\n",
       "2019-08-08   881                        10       52.534287\n",
       "2019-08-09   787                        10       46.929040\n",
       "2019-08-10   778                         5       46.392367\n",
       "2019-08-11   664                         3       39.594514\n",
       "2019-08-12   700                       100       41.741205\n",
       "2019-08-13   750                        54       44.722719\n",
       "2019-08-14   866                        37       51.639833\n",
       "2019-08-15   709                        38       42.277877\n",
       "2019-08-16   597                        26       35.599284\n",
       "2019-08-17   425                        11       25.342874\n",
       "2019-08-18  1006                         9       59.988074\n",
       "2019-08-19   838                        13       49.970185\n",
       "2019-08-20  1029                        28       61.359571"
      ]
     },
     "execution_count": 69,
     "metadata": {},
     "output_type": "execute_result"
    }
   ],
   "source": [
    "df_merged.head(20)"
   ]
  },
  {
   "cell_type": "code",
   "execution_count": 67,
   "metadata": {},
   "outputs": [
    {
     "data": {
      "text/plain": [
       "<matplotlib.axes._subplots.AxesSubplot at 0x12375db00>"
      ]
     },
     "execution_count": 67,
     "metadata": {},
     "output_type": "execute_result"
    },
    {
     "data": {
      "image/png": "[encoded data removed]",
      "text/plain": [
       "<Figure size 1296x576 with 2 Axes>"
      ]
     },
     "metadata": {
      "needs_background": "light"
     },
     "output_type": "display_data"
    }
   ],
   "source": [
    "date_filter = \"2019-08-01\"\n",
    "\n",
    "ax = df_merged[df_merged.index > date_filter].reset_index().plot(\"index\",'id_normalizado')\n",
    "df_merged[df_merged.index > date_filter].reset_index().plot(\"index\", 'Category: All categories', secondary_y=True, ax=ax, figsize=(18,8))"
   ]
  },
  {
   "cell_type": "code",
   "execution_count": 53,
   "metadata": {},
   "outputs": [
    {
     "data": {
      "text/plain": [
       "<matplotlib.axes._subplots.AxesSubplot at 0x11ba72828>"
      ]
     },
     "execution_count": 53,
     "metadata": {},
     "output_type": "execute_result"
    },
    {
     "data": {
      "image/png": "[encoded data removed]",
      "text/plain": [
       "<Figure size 1296x576 with 1 Axes>"
      ]
     },
     "metadata": {
      "needs_background": "light"
     },
     "output_type": "display_data"
    }
   ],
   "source": [
    "df_merged[df_merged.index > date_filter].plot.scatter(\"id_normalizado\", \"Category: All categories\", figsize=(18,8))"
   ]
  },
  {
   "cell_type": "code",
   "execution_count": 66,
   "metadata": {},
   "outputs": [
    {
     "data": {
      "text/html": [
       "<div>\n",
       "<style scoped>\n",
       "    .dataframe tbody tr th:only-of-type {\n",
       "        vertical-align: middle;\n",
       "    }\n",
       "\n",
       "    .dataframe tbody tr th {\n",
       "        vertical-align: top;\n",
       "    }\n",
       "\n",
       "    .dataframe thead th {\n",
       "        text-align: right;\n",
       "    }\n",
       "</style>\n",
       "<table border=\"1\" class=\"dataframe\">\n",
       "  <thead>\n",
       "    <tr style=\"text-align: right;\">\n",
       "      <th></th>\n",
       "      <th>id</th>\n",
       "      <th>Category: All categories</th>\n",
       "      <th>id_normalizado</th>\n",
       "    </tr>\n",
       "  </thead>\n",
       "  <tbody>\n",
       "    <tr>\n",
       "      <td>id</td>\n",
       "      <td>1.000000</td>\n",
       "      <td>0.176879</td>\n",
       "      <td>1.000000</td>\n",
       "    </tr>\n",
       "    <tr>\n",
       "      <td>Category: All categories</td>\n",
       "      <td>0.176879</td>\n",
       "      <td>1.000000</td>\n",
       "      <td>0.176879</td>\n",
       "    </tr>\n",
       "    <tr>\n",
       "      <td>id_normalizado</td>\n",
       "      <td>1.000000</td>\n",
       "      <td>0.176879</td>\n",
       "      <td>1.000000</td>\n",
       "    </tr>\n",
       "  </tbody>\n",
       "</table>\n",
       "</div>"
      ],
      "text/plain": [
       "                                id  Category: All categories  id_normalizado\n",
       "id                        1.000000                  0.176879        1.000000\n",
       "Category: All categories  0.176879                  1.000000        0.176879\n",
       "id_normalizado            1.000000                  0.176879        1.000000"
      ]
     },
     "execution_count": 66,
     "metadata": {},
     "output_type": "execute_result"
    }
   ],
   "source": [
    "df_merged[df_merged.index > date_filter].corr()"
   ]
  },
  {
   "cell_type": "code",
   "execution_count": 64,
   "metadata": {},
   "outputs": [
    {
     "data": {
      "text/plain": [
       "575      None\n",
       "4646     None\n",
       "4648     None\n",
       "4649     None\n",
       "4650     None\n",
       "         ... \n",
       "14007    None\n",
       "14008    None\n",
       "14011    None\n",
       "14128    None\n",
       "14429    None\n",
       "Length: 37953, dtype: object"
      ]
     },
     "execution_count": 64,
     "metadata": {},
     "output_type": "execute_result"
    }
   ],
   "source": [
    "df_analytics[df_analytics.uri == \"/series/api/search/\"].apply(lambda x: x[\"querystring\"].split(\"&q=\")[1] if \"&q=\" in x else None, axis=1)"
   ]
  },
  {
   "cell_type": "code",
   "execution_count": 93,
   "metadata": {},
   "outputs": [
    {
     "data": {
      "text/html": [
       "<div>\n",
       "<style scoped>\n",
       "    .dataframe tbody tr th:only-of-type {\n",
       "        vertical-align: middle;\n",
       "    }\n",
       "\n",
       "    .dataframe tbody tr th {\n",
       "        vertical-align: top;\n",
       "    }\n",
       "\n",
       "    .dataframe thead th {\n",
       "        text-align: right;\n",
       "    }\n",
       "</style>\n",
       "<table border=\"1\" class=\"dataframe\">\n",
       "  <thead>\n",
       "    <tr style=\"text-align: right;\">\n",
       "      <th></th>\n",
       "      <th>api_data</th>\n",
       "      <th>host</th>\n",
       "      <th>id</th>\n",
       "      <th>ip_address</th>\n",
       "      <th>querystring</th>\n",
       "      <th>referer</th>\n",
       "      <th>request_method</th>\n",
       "      <th>request_time</th>\n",
       "      <th>start_time</th>\n",
       "      <th>status_code</th>\n",
       "      <th>token</th>\n",
       "      <th>uri</th>\n",
       "      <th>user_agent</th>\n",
       "      <th>x_source</th>\n",
       "      <th>day</th>\n",
       "    </tr>\n",
       "  </thead>\n",
       "  <tbody>\n",
       "    <tr>\n",
       "      <td>21202</td>\n",
       "      <td>series-tiempo-prod</td>\n",
       "      <td>apis.datos.gob.ar</td>\n",
       "      <td>16636795</td>\n",
       "      <td>201.250.42.228</td>\n",
       "      <td>ids=168.1_T_CAMBIOR_D_0_0_26&amp;metadata=full&amp;las...</td>\n",
       "      <td>NaN</td>\n",
       "      <td>GET</td>\n",
       "      <td>0.923</td>\n",
       "      <td>2019-08-07 00:05:14+00:00</td>\n",
       "      <td>200</td>\n",
       "      <td>NaN</td>\n",
       "      <td>/series/api/series/</td>\n",
       "      <td>Mozilla/5.0 (Windows NT 10.0; Win64; x64) Appl...</td>\n",
       "      <td>series-tiempo-explorer</td>\n",
       "      <td>2019-08-07</td>\n",
       "    </tr>\n",
       "    <tr>\n",
       "      <td>21303</td>\n",
       "      <td>series-tiempo-prod</td>\n",
       "      <td>apis.datos.gob.ar</td>\n",
       "      <td>16636936</td>\n",
       "      <td>8.5.253.154</td>\n",
       "      <td>ids=168.1_T_CAMBIOR_D_0_0_26&amp;metadata=full&amp;las...</td>\n",
       "      <td>NaN</td>\n",
       "      <td>GET</td>\n",
       "      <td>0.001</td>\n",
       "      <td>2019-08-07 00:16:16+00:00</td>\n",
       "      <td>200</td>\n",
       "      <td>NaN</td>\n",
       "      <td>/series/api/series/</td>\n",
       "      <td>Mozilla/5.0 (Windows NT 10.0; Win64; x64) Appl...</td>\n",
       "      <td>series-tiempo-explorer</td>\n",
       "      <td>2019-08-07</td>\n",
       "    </tr>\n",
       "    <tr>\n",
       "      <td>21324</td>\n",
       "      <td>series-tiempo-prod</td>\n",
       "      <td>apis.datos.gob.ar</td>\n",
       "      <td>16636990</td>\n",
       "      <td>66.249.88.17</td>\n",
       "      <td>ids=168.1_T_CAMBIOR_D_0_0_26&amp;metadata=full&amp;las...</td>\n",
       "      <td>NaN</td>\n",
       "      <td>GET</td>\n",
       "      <td>0.002</td>\n",
       "      <td>2019-08-07 00:20:00+00:00</td>\n",
       "      <td>200</td>\n",
       "      <td>NaN</td>\n",
       "      <td>/series/api/series/</td>\n",
       "      <td>Mozilla/5.0 (Linux; Android 4.2.1; en-us; Nexu...</td>\n",
       "      <td>series-tiempo-explorer</td>\n",
       "      <td>2019-08-07</td>\n",
       "    </tr>\n",
       "    <tr>\n",
       "      <td>21329</td>\n",
       "      <td>series-tiempo-prod</td>\n",
       "      <td>apis.datos.gob.ar</td>\n",
       "      <td>16636984</td>\n",
       "      <td>66.249.83.12</td>\n",
       "      <td>ids=168.1_T_CAMBIOR_D_0_0_26&amp;metadata=full&amp;las...</td>\n",
       "      <td>NaN</td>\n",
       "      <td>GET</td>\n",
       "      <td>0.002</td>\n",
       "      <td>2019-08-07 00:20:00+00:00</td>\n",
       "      <td>200</td>\n",
       "      <td>NaN</td>\n",
       "      <td>/series/api/series/</td>\n",
       "      <td>Mozilla/5.0 (Linux; Android 4.2.1; en-us; Nexu...</td>\n",
       "      <td>series-tiempo-explorer</td>\n",
       "      <td>2019-08-07</td>\n",
       "    </tr>\n",
       "    <tr>\n",
       "      <td>21402</td>\n",
       "      <td>series-tiempo-prod</td>\n",
       "      <td>apis.datos.gob.ar</td>\n",
       "      <td>16637084</td>\n",
       "      <td>181.230.132.67</td>\n",
       "      <td>ids=168.1_T_CAMBIOR_D_0_0_26&amp;metadata=full&amp;las...</td>\n",
       "      <td>NaN</td>\n",
       "      <td>GET</td>\n",
       "      <td>0.002</td>\n",
       "      <td>2019-08-07 00:30:32+00:00</td>\n",
       "      <td>200</td>\n",
       "      <td>NaN</td>\n",
       "      <td>/series/api/series/</td>\n",
       "      <td>Mozilla/5.0 (iPhone; CPU iPhone OS 12_3_1 like...</td>\n",
       "      <td>series-tiempo-explorer</td>\n",
       "      <td>2019-08-07</td>\n",
       "    </tr>\n",
       "  </tbody>\n",
       "</table>\n",
       "</div>"
      ],
      "text/plain": [
       "                 api_data               host        id      ip_address  \\\n",
       "21202  series-tiempo-prod  apis.datos.gob.ar  16636795  201.250.42.228   \n",
       "21303  series-tiempo-prod  apis.datos.gob.ar  16636936     8.5.253.154   \n",
       "21324  series-tiempo-prod  apis.datos.gob.ar  16636990    66.249.88.17   \n",
       "21329  series-tiempo-prod  apis.datos.gob.ar  16636984    66.249.83.12   \n",
       "21402  series-tiempo-prod  apis.datos.gob.ar  16637084  181.230.132.67   \n",
       "\n",
       "                                             querystring referer  \\\n",
       "21202  ids=168.1_T_CAMBIOR_D_0_0_26&metadata=full&las...     NaN   \n",
       "21303  ids=168.1_T_CAMBIOR_D_0_0_26&metadata=full&las...     NaN   \n",
       "21324  ids=168.1_T_CAMBIOR_D_0_0_26&metadata=full&las...     NaN   \n",
       "21329  ids=168.1_T_CAMBIOR_D_0_0_26&metadata=full&las...     NaN   \n",
       "21402  ids=168.1_T_CAMBIOR_D_0_0_26&metadata=full&las...     NaN   \n",
       "\n",
       "      request_method  request_time                start_time  status_code  \\\n",
       "21202            GET         0.923 2019-08-07 00:05:14+00:00          200   \n",
       "21303            GET         0.001 2019-08-07 00:16:16+00:00          200   \n",
       "21324            GET         0.002 2019-08-07 00:20:00+00:00          200   \n",
       "21329            GET         0.002 2019-08-07 00:20:00+00:00          200   \n",
       "21402            GET         0.002 2019-08-07 00:30:32+00:00          200   \n",
       "\n",
       "       token                  uri  \\\n",
       "21202    NaN  /series/api/series/   \n",
       "21303    NaN  /series/api/series/   \n",
       "21324    NaN  /series/api/series/   \n",
       "21329    NaN  /series/api/series/   \n",
       "21402    NaN  /series/api/series/   \n",
       "\n",
       "                                              user_agent  \\\n",
       "21202  Mozilla/5.0 (Windows NT 10.0; Win64; x64) Appl...   \n",
       "21303  Mozilla/5.0 (Windows NT 10.0; Win64; x64) Appl...   \n",
       "21324  Mozilla/5.0 (Linux; Android 4.2.1; en-us; Nexu...   \n",
       "21329  Mozilla/5.0 (Linux; Android 4.2.1; en-us; Nexu...   \n",
       "21402  Mozilla/5.0 (iPhone; CPU iPhone OS 12_3_1 like...   \n",
       "\n",
       "                     x_source         day  \n",
       "21202  series-tiempo-explorer  2019-08-07  \n",
       "21303  series-tiempo-explorer  2019-08-07  \n",
       "21324  series-tiempo-explorer  2019-08-07  \n",
       "21329  series-tiempo-explorer  2019-08-07  \n",
       "21402  series-tiempo-explorer  2019-08-07  "
      ]
     },
     "execution_count": 93,
     "metadata": {},
     "output_type": "execute_result"
    }
   ],
   "source": [
    "df_tc[df_tc.day == pd.to_datetime(\"2019-08-07\")].head()"
   ]
  },
  {
   "cell_type": "code",
   "execution_count": 95,
   "metadata": {},
   "outputs": [
    {
     "data": {
      "text/plain": [
       "1677"
      ]
     },
     "execution_count": 95,
     "metadata": {},
     "output_type": "execute_result"
    }
   ],
   "source": [
    "len(df_tc[df_tc.day == pd.to_datetime(\"2019-08-07\")])"
   ]
  },
  {
   "cell_type": "code",
   "execution_count": 94,
   "metadata": {},
   "outputs": [
    {
     "data": {
      "text/plain": [
       "series-tiempo-explorer    240\n",
       "ts-components              15\n",
       "ts-components-card          1\n",
       "Name: x_source, dtype: int64"
      ]
     },
     "execution_count": 94,
     "metadata": {},
     "output_type": "execute_result"
    }
   ],
   "source": [
    "df_tc[df_tc.day == pd.to_datetime(\"2019-08-07\")].x_source.value_counts()"
   ]
  },
  {
   "cell_type": "code",
   "execution_count": 100,
   "metadata": {},
   "outputs": [
    {
     "data": {
      "text/plain": [
       "Mozilla/5.0 (compatible; Google-Apps-Script)                                                                                                                        1069\n",
       "Mozilla/5.0 (compatible; GoogleDocs; apps-spreadsheets; +http://docs.google.com)                                                                                     328\n",
       "Mozilla/5.0 (Windows NT 10.0; Win64; x64) AppleWebKit/537.36 (KHTML, like Gecko) Chrome/75.0.3770.142 Safari/537.36                                                   66\n",
       "Mozilla/5.0 (Windows NT 6.1; Win64; x64) AppleWebKit/537.36 (KHTML, like Gecko) Chrome/75.0.3770.142 Safari/537.36                                                    20\n",
       "Mozilla/5.0 (Macintosh; Intel Mac OS X 10_14_5) AppleWebKit/537.36 (KHTML, like Gecko) Chrome/75.0.3770.142 Safari/537.36                                             17\n",
       "Mozilla/5.0 (X11; Linux x86_64) AppleWebKit/537.36 (KHTML, like Gecko) Chrome/76.0.3809.87 Safari/537.36                                                              15\n",
       "Mozilla/5.0 (Windows NT 6.1; Win64; x64; rv:68.0) Gecko/20100101 Firefox/68.0                                                                                         14\n",
       "Mozilla/5.0 (Windows NT 6.1) AppleWebKit/537.36 (KHTML, like Gecko) Chrome/75.0.3770.142 Safari/537.36                                                                13\n",
       "python-requests/2.18.4                                                                                                                                                12\n",
       "Mozilla/5.0 (Windows NT 6.3; Win64; x64) AppleWebKit/537.36 (KHTML, like Gecko) Chrome/75.0.3770.142 Safari/537.36                                                    10\n",
       "Mozilla/5.0 (Windows NT 10.0; Win64; x64; rv:68.0) Gecko/20100101 Firefox/68.0                                                                                         9\n",
       "Mozilla/5.0 (Windows NT 10.0; Win64; x64) AppleWebKit/537.36 (KHTML, like Gecko) Chrome/76.0.3809.87 Safari/537.36                                                     7\n",
       "nil                                                                                                                                                                    6\n",
       "Mozilla/5.0 (Windows NT 6.1; rv:68.0) Gecko/20100101 Firefox/68.0                                                                                                      6\n",
       "Mozilla/5.0 (Windows NT 6.1) AppleWebKit/537.36 (KHTML, like Gecko) Chrome/76.0.3809.100 Safari/537.36                                                                 5\n",
       "Mozilla/5.0 (Windows NT 6.1; Win64; x64) AppleWebKit/537.36 (KHTML, like Gecko) Chrome/76.0.3809.87 Safari/537.36                                                      5\n",
       "Mozilla/5.0 (Linux; Android 4.2.1; en-us; Nexus 5 Build/JOP40D) AppleWebKit/535.19 (KHTML, like Gecko; googleweblight) Chrome/38.0.1025.166 Mobile Safari/535.19       5\n",
       "Mozilla/5.0 (Linux; Android 6.0.1; SM-J700M) AppleWebKit/537.36 (KHTML, like Gecko) Chrome/76.0.3809.89 Mobile Safari/537.36                                           4\n",
       "Mozilla/5.0 (Windows NT 10.0; Win64; x64) AppleWebKit/537.36 (KHTML, like Gecko) Chrome/76.0.3809.100 Safari/537.36                                                    3\n",
       "Mozilla/5.0 (Windows NT 10.0; Win64; x64) AppleWebKit/537.36 (KHTML, like Gecko) Chrome/70.0.3538.102 Safari/537.36 Edge/18.18362                                      3\n",
       "Name: user_agent, dtype: int64"
      ]
     },
     "execution_count": 100,
     "metadata": {},
     "output_type": "execute_result"
    }
   ],
   "source": [
    "df_tc[df_tc.day == pd.to_datetime(\"2019-08-07\")].user_agent.value_counts().head(20)"
   ]
  },
  {
   "cell_type": "code",
   "execution_count": null,
   "metadata": {},
   "outputs": [],
   "source": []
  }
 ],
 "metadata": {
  "kernelspec": {
   "display_name": "Python 3",
   "language": "python",
   "name": "python3"
  },
  "language_info": {
   "codemirror_mode": {
    "name": "ipython",
    "version": 3
   },
   "file_extension": ".py",
   "mimetype": "text/x-python",
   "name": "python",
   "nbconvert_exporter": "python",
   "pygments_lexer": "ipython3",
   "version": "3.7.3"
  },
  "toc": {
   "colors": {
    "hover_highlight": "#DAA520",
    "running_highlight": "#FF0000",
    "selected_highlight": "#FFD700"
   },
   "moveMenuLeft": true,
   "nav_menu": {
    "height": "12px",
    "width": "252px"
   },
   "navigate_menu": true,
   "number_sections": true,
   "sideBar": true,
   "threshold": 4,
   "toc_cell": false,
   "toc_section_display": "block",
   "toc_window_display": false
  }
 },
 "nbformat": 4,
 "nbformat_minor": 2
}
