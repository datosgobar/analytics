{
 "cells": [
  {
   "cell_type": "markdown",
   "metadata": {},
   "source": [
    "# Setup"
   ]
  },
  {
   "cell_type": "code",
   "execution_count": 1,
   "metadata": {
    "ExecuteTime": {
     "end_time": "2019-06-21T18:49:31.116844Z",
     "start_time": "2019-06-21T18:49:30.640263Z"
    }
   },
   "outputs": [],
   "source": [
    "import sys\n",
    "import os\n",
    "import locale\n",
    "\n",
    "import re\n",
    "import glob\n",
    "import pandas as pd\n",
    "import numpy as np\n",
    "import matplotlib.pyplot as plt\n",
    "import matplotlib.patches as patches\n",
    "from urllib.parse import parse_qs, urlparse\n",
    "\n",
    "pd.options.display.max_rows = 20000\n",
    "pd.set_option('display.max_colwidth', -1)\n"
   ]
  },
  {
   "cell_type": "markdown",
   "metadata": {},
   "source": [
    "# Log - nginx"
   ]
  },
  {
   "cell_type": "code",
   "execution_count": 2,
   "metadata": {
    "ExecuteTime": {
     "end_time": "2019-06-21T18:49:34.356478Z",
     "start_time": "2019-06-21T18:49:31.132340Z"
    }
   },
   "outputs": [],
   "source": [
    "df_log = pd.read_csv('../data/api-georef-clean.csv', memory_map=True, index_col=0)"
   ]
  },
  {
   "cell_type": "code",
   "execution_count": 3,
   "metadata": {
    "ExecuteTime": {
     "end_time": "2019-06-21T18:49:59.755531Z",
     "start_time": "2019-06-21T18:49:34.360507Z"
    },
    "scrolled": true
   },
   "outputs": [],
   "source": [
    "# print(df_log.shape)\n",
    "\n",
    "uri_georef = df_log.uri.str.contains('/georef/api/')\n",
    "status_ok = df_log.status == 200\n",
    "status_nan = df_log.status.isnull()\n",
    "\n",
    "df_log = df_log[uri_georef & ~status_nan & status_ok]\n",
    "\n",
    "# separo columna endpoint\n",
    "df_log['endpoint'] = df_log.uri.apply(lambda x: str(x).strip('/').split('/')[-1].split('.')[0])\n",
    "\n",
    "# reemplazo los methods que no son GET o POST por OTROS\n",
    "other_mr = ~df_log.method.isin(['GET','POST'])\n",
    "df_log.loc[other_mr,'method'] = 'OTROS'\n",
    "\n",
    "# agrego fecha corta\n",
    "df_log['date_short'] = pd.DatetimeIndex(df_log.time_local).strftime('%Y-%m')\n",
    "\n",
    "# agrego clasificación de qs's\n",
    "qs_contains_name = df_log.querystring.str.contains('nombre=').astype(bool)\n",
    "qs_contains_dir = df_log.querystring.str.contains('direccion=').astype(bool)\n",
    "uri_is_ubicacion = df_log.uri.str.contains('ubicacion').astype(bool)\n",
    "\n",
    "query_is_norm = (qs_contains_name & (~qs_contains_dir) & (~uri_is_ubicacion))\n",
    "query_is_norm_dir = (qs_contains_dir & (~qs_contains_name) & (~uri_is_ubicacion))\n",
    "query_is_ref = ~(query_is_norm | query_is_norm_dir | uri_is_ubicacion)\n",
    "\n",
    "df_log.loc[uri_is_ubicacion, 'query_tipo'] = 'enriquecimiento'\n",
    "df_log.loc[query_is_norm, 'query_tipo'] = 'normalizacion_nombres'\n",
    "df_log.loc[query_is_norm_dir, 'query_tipo'] = 'normalizacion_direcciones'\n",
    "df_log.loc[query_is_ref, 'query_tipo'] = 'referenciación'\n",
    "\n",
    "# print(df_log.shape)"
   ]
  },
  {
   "cell_type": "code",
   "execution_count": 4,
   "metadata": {
    "ExecuteTime": {
     "end_time": "2019-06-21T18:49:59.900857Z",
     "start_time": "2019-06-21T18:49:59.757280Z"
    }
   },
   "outputs": [],
   "source": [
    "log_date_max = df_log.time_local.max()\n",
    "\n",
    "log_date_min = df_log.time_local.min()"
   ]
  },
  {
   "cell_type": "markdown",
   "metadata": {},
   "source": [
    "## Hits"
   ]
  },
  {
   "cell_type": "code",
   "execution_count": 5,
   "metadata": {
    "ExecuteTime": {
     "end_time": "2019-06-19T14:40:41.786816Z",
     "start_time": "2019-06-19T14:40:41.577039Z"
    }
   },
   "outputs": [],
   "source": [
    "df_hits = df_log.groupby(['method','endpoint','query_tipo'])['-'].count()\n",
    "\n",
    "df_hits = df_hits.to_frame().reset_index().rename({'-':'hits'}, axis=1)\n"
   ]
  },
  {
   "cell_type": "code",
   "execution_count": 7,
   "metadata": {
    "ExecuteTime": {
     "end_time": "2019-06-13T19:09:46.307076Z",
     "start_time": "2019-06-13T19:09:46.301138Z"
    }
   },
   "outputs": [],
   "source": [
    "# df_hits"
   ]
  },
  {
   "cell_type": "markdown",
   "metadata": {},
   "source": [
    "### Por método"
   ]
  },
  {
   "cell_type": "markdown",
   "metadata": {},
   "source": [
    "### Por tipo "
   ]
  },
  {
   "cell_type": "code",
   "execution_count": 8,
   "metadata": {
    "ExecuteTime": {
     "end_time": "2019-06-13T19:09:46.315906Z",
     "start_time": "2019-06-13T19:09:46.309886Z"
    }
   },
   "outputs": [],
   "source": [
    "# df_aux = df_log.dropna(axis='index', subset=['querystring'])\n",
    "\n",
    "\n",
    "# uri_is_ubicacion = df_aux.uri.str.contains('ubicacion').astype(bool)\n",
    "\n",
    "# qs_contains_name = df_aux.querystring.str.contains('nombre=').astype(bool)\n",
    "# qs_contains_dir = df_aux.querystring.str.contains('direccion=').astype(bool)\n",
    "\n",
    "\n",
    "# query_is_norm = (qs_contains_name & (~qs_contains_dir) & (~uri_is_ubicacion))\n",
    "# query_is_norm_dir = (qs_contains_dir & (~qs_contains_name) & (~uri_is_ubicacion))\n",
    "# query_is_enr = uri_is_ubicacion\n",
    "# query_is_ref = ~(query_is_norm | query_is_norm_dir | query_is_enr)\n",
    "\n",
    "# list_query_is = [query_is_norm, query_is_norm_dir, query_is_ref, query_is_enr]\n",
    "# list_query_types = ['normalización de nombres', 'normalización de direcciones', 'referenciación', 'enriquecimiento']\n",
    "\n",
    "# list_query_sum = [f.sum() for f in list_query_is]\n",
    "# df_aux_ = pd.DataFrame({'hits':list_query_sum}, index=list_query_types)"
   ]
  },
  {
   "cell_type": "code",
   "execution_count": 9,
   "metadata": {
    "ExecuteTime": {
     "end_time": "2019-06-13T19:09:46.321834Z",
     "start_time": "2019-06-13T19:09:46.317480Z"
    }
   },
   "outputs": [],
   "source": [
    "# assert df_aux_.hits.sum() == df_log.dropna(axis='index', subset=['querystring']).shape[0]"
   ]
  },
  {
   "cell_type": "code",
   "execution_count": 10,
   "metadata": {
    "ExecuteTime": {
     "end_time": "2019-06-13T19:09:46.326408Z",
     "start_time": "2019-06-13T19:09:46.323297Z"
    }
   },
   "outputs": [],
   "source": [
    "# df_aux_"
   ]
  },
  {
   "cell_type": "code",
   "execution_count": 11,
   "metadata": {
    "ExecuteTime": {
     "end_time": "2019-06-13T19:09:46.338110Z",
     "start_time": "2019-06-13T19:09:46.328149Z"
    }
   },
   "outputs": [],
   "source": [
    "# df_aux[query_is_norm_dir].method.value_counts()"
   ]
  },
  {
   "cell_type": "code",
   "execution_count": 12,
   "metadata": {
    "ExecuteTime": {
     "end_time": "2019-06-13T19:09:46.350510Z",
     "start_time": "2019-06-13T19:09:46.341021Z"
    }
   },
   "outputs": [],
   "source": [
    "# del df_aux_"
   ]
  },
  {
   "cell_type": "markdown",
   "metadata": {},
   "source": [
    "## Operaciones "
   ]
  },
  {
   "cell_type": "markdown",
   "metadata": {},
   "source": [
    "### Direcciones normalizadas"
   ]
  },
  {
   "cell_type": "code",
   "execution_count": 2,
   "metadata": {
    "ExecuteTime": {
     "end_time": "2019-06-24T19:00:43.507897Z",
     "start_time": "2019-06-24T19:00:43.505113Z"
    }
   },
   "outputs": [],
   "source": [
    "# Tomo sólo las querys de normalización de direcciones\n",
    "# # df_aux = df_log.dropna(axis='index', subset=['querystring'])\n",
    "# # df_aux = df_aux[query_is_norm_dir]\n",
    "\n",
    "# df_aux = df_log.dropna(axis='index', subset=['querystring'])[query_is_norm_dir]\n",
    "# df_aux = df_log.dropna(axis='index', subset=['querystring'])\n",
    "\n",
    "# df_aux.body_bytes_sent.describe().to_frame()"
   ]
  },
  {
   "cell_type": "code",
   "execution_count": 3,
   "metadata": {
    "ExecuteTime": {
     "end_time": "2019-06-24T19:00:44.827154Z",
     "start_time": "2019-06-24T19:00:44.824347Z"
    }
   },
   "outputs": [],
   "source": [
    "# df_aux.body_bytes_sent.hist(bins=50, figsize=[18,6])\n",
    "# plt.yscale('log')"
   ]
  },
  {
   "cell_type": "code",
   "execution_count": 4,
   "metadata": {
    "ExecuteTime": {
     "end_time": "2019-06-24T19:00:48.066826Z",
     "start_time": "2019-06-24T19:00:48.064141Z"
    }
   },
   "outputs": [],
   "source": [
    "# # cantidad de registros con body_bytes_sent mayor al min/a la media para una dirección\n",
    "# min_one_direction = 622\n",
    "# mean_one_direction = 678\n",
    "# # (df_aux.body_bytes_sent > min_one_direction).sum()\n",
    "# minbbs_rows_gt_mean = (df_aux.body_bytes_sent > mean_one_direction).sum()"
   ]
  },
  {
   "cell_type": "code",
   "execution_count": 5,
   "metadata": {
    "ExecuteTime": {
     "end_time": "2019-06-24T19:00:48.414414Z",
     "start_time": "2019-06-24T19:00:48.408738Z"
    }
   },
   "outputs": [],
   "source": [
    "# # registros con body_bytes_sent mayor al min/a la media para 500 direcciones\n",
    "# min_max_directions = 311000\n",
    "# mean_max_directions = 3344312\n",
    "# maxbbs_rows_gt_min = (df_aux.body_bytes_sent > min_max_directions).sum()\n",
    "# # (df_aux.body_bytes_sent > mean_max_directions).sum()"
   ]
  },
  {
   "cell_type": "markdown",
   "metadata": {},
   "source": [
    "#### Pruebo una regresión lineal\n"
   ]
  },
  {
   "cell_type": "code",
   "execution_count": 6,
   "metadata": {
    "ExecuteTime": {
     "end_time": "2019-06-24T19:00:51.951812Z",
     "start_time": "2019-06-24T19:00:51.947297Z"
    }
   },
   "outputs": [],
   "source": [
    "# from sklearn.externals import joblib\n",
    "\n",
    "# # Load the pickle file\n",
    "# clf_load = joblib.load('saved_model.pkl') "
   ]
  },
  {
   "cell_type": "code",
   "execution_count": 18,
   "metadata": {
    "ExecuteTime": {
     "end_time": "2019-06-13T19:09:46.881110Z",
     "start_time": "2019-06-13T19:09:46.833515Z"
    }
   },
   "outputs": [],
   "source": [
    "# df_aux['cantidad_pred'] = clf_load.predict(df_aux.body_bytes_sent.values.reshape(-1, 1))"
   ]
  },
  {
   "cell_type": "code",
   "execution_count": 19,
   "metadata": {
    "ExecuteTime": {
     "end_time": "2019-06-13T19:09:46.894292Z",
     "start_time": "2019-06-13T19:09:46.884291Z"
    }
   },
   "outputs": [],
   "source": [
    "# df_aux.cantidad_pred.describe()"
   ]
  },
  {
   "cell_type": "code",
   "execution_count": 20,
   "metadata": {
    "ExecuteTime": {
     "end_time": "2019-06-13T19:09:46.906072Z",
     "start_time": "2019-06-13T19:09:46.899175Z"
    }
   },
   "outputs": [],
   "source": [
    "# df_aux.cantidad_pred.hist(bins=50, figsize=[18,6])\n",
    "# plt.yscale('log')\n",
    "# plt.ylabel('')\n",
    "\n"
   ]
  },
  {
   "cell_type": "markdown",
   "metadata": {},
   "source": [
    "# Residuales del log de SdT"
   ]
  },
  {
   "cell_type": "code",
   "execution_count": 21,
   "metadata": {
    "ExecuteTime": {
     "end_time": "2019-06-13T19:09:46.915869Z",
     "start_time": "2019-06-13T19:09:46.910732Z"
    }
   },
   "outputs": [],
   "source": [
    "# interest_domains = ['cnvivienda.org.ar',\n",
    "#                    'andino.pilar.gov.ar',\n",
    "#                    'johnny-tests.hopto.org',\n",
    "#                    'datos.regionglobal.com.ar',\n",
    "#                    'www.w3schools.com',\n",
    "#                    'wonderful-gates-af1c3e.netlify.com',\n",
    "#                    'translate.googleusercontent.com',\n",
    "#                    'pentasistemas.com.ar',\n",
    "#                    'www.blogger.com',\n",
    "#                    'twitter.com',\n",
    "#                    'github.com',\n",
    "#                    'org.telegram.messenger',\n",
    "#                    'run.scrimba.com',\n",
    "#                    'www.translatoruser-int.com']"
   ]
  },
  {
   "cell_type": "code",
   "execution_count": 22,
   "metadata": {
    "ExecuteTime": {
     "end_time": "2019-06-13T19:09:46.920619Z",
     "start_time": "2019-06-13T19:09:46.917565Z"
    }
   },
   "outputs": [],
   "source": [
    "# is_interest_domain = df_log.domain.isin(interest_domains)\n",
    "# # \n",
    "# df_log[is_interest_domain].groupby(['domain','path']).count()"
   ]
  },
  {
   "cell_type": "markdown",
   "metadata": {},
   "source": [
    "# OSDE"
   ]
  },
  {
   "cell_type": "code",
   "execution_count": 21,
   "metadata": {
    "ExecuteTime": {
     "end_time": "2019-06-18T18:37:11.786265Z",
     "start_time": "2019-06-18T18:37:11.779030Z"
    }
   },
   "outputs": [],
   "source": [
    "# df_log.columns"
   ]
  },
  {
   "cell_type": "code",
   "execution_count": 23,
   "metadata": {
    "ExecuteTime": {
     "end_time": "2019-06-18T19:46:30.810079Z",
     "start_time": "2019-06-18T19:46:30.430932Z"
    }
   },
   "outputs": [],
   "source": [
    "df_osde_by_month = df_log[df_log.http_referer.str.contains('osde')].time_local.apply(lambda x: str(x)[:7]).value_counts().to_frame().sort_index()"
   ]
  },
  {
   "cell_type": "code",
   "execution_count": null,
   "metadata": {},
   "outputs": [],
   "source": []
  }
 ],
 "metadata": {
  "hide_input": false,
  "kernelspec": {
   "display_name": "Python 3",
   "language": "python",
   "name": "python3"
  },
  "language_info": {
   "codemirror_mode": {
    "name": "ipython",
    "version": 3
   },
   "file_extension": ".py",
   "mimetype": "text/x-python",
   "name": "python",
   "nbconvert_exporter": "python",
   "pygments_lexer": "ipython3",
   "version": "3.7.2"
  },
  "toc": {
   "base_numbering": 1,
   "nav_menu": {},
   "number_sections": true,
   "sideBar": true,
   "skip_h1_title": false,
   "title_cell": "Table of Contents",
   "title_sidebar": "Contents",
   "toc_cell": false,
   "toc_position": {
    "height": "calc(100% - 180px)",
    "left": "10px",
    "top": "150px",
    "width": "294.492px"
   },
   "toc_section_display": true,
   "toc_window_display": true
  }
 },
 "nbformat": 4,
 "nbformat_minor": 2
}
