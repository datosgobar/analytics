{
 "cells": [
  {
   "cell_type": "code",
   "execution_count": 1,
   "metadata": {},
   "outputs": [],
   "source": [
    "# setup\n",
    "import os\n",
    "import sys\n",
    "\n",
    "# para importar módulos en '../../tools'\n",
    "module_path = os.path.abspath(os.path.join('../../tools'))\n",
    "if module_path not in sys.path:\n",
    "    sys.path.append(module_path)\n",
    "\n",
    "import pandas as pd\n",
    "import glob\n",
    "import arrow\n",
    "\n",
    "import analytics_tools"
   ]
  },
  {
   "cell_type": "code",
   "execution_count": 2,
   "metadata": {},
   "outputs": [],
   "source": [
    "def read_files_to_df(directory, start_date=None):\n",
    "    \"\"\"Lee CSVs de misma estructura en un directorio a un solo DataFrame.\"\"\"\n",
    "    \n",
    "    start_date = start_date or arrow.now().shift(months=-3).format(\"YYYY-MM-DD\")\n",
    "    file_pattern = os.path.join(directory, \"*.csv\") \n",
    "    filtered_files = [\n",
    "        file for file in glob.glob(file_pattern) \n",
    "        if arrow.get(file.split(\"_\")[1].split(\".\")[0]) > arrow.get(start_date)\n",
    "    ]\n",
    "\n",
    "    dfs = [pd.read_csv(file, encoding=\"utf8\", parse_dates=True)\n",
    "           for file in filtered_files]\n",
    "        \n",
    "    return pd.concat(dfs, axis=0)"
   ]
  },
  {
   "cell_type": "code",
   "execution_count": 3,
   "metadata": {},
   "outputs": [],
   "source": [
    "df_analytics = read_files_to_df(analytics_tools.DIR_DATA_GR, \"2019-09-09\")"
   ]
  },
  {
   "cell_type": "code",
   "execution_count": null,
   "metadata": {},
   "outputs": [],
   "source": [
    "df_analytics.groupby(\"referer\").count()[[\"ip_address\"]].sort_values(\"ip_address\", ascending=False).head(30)"
   ]
  },
  {
   "cell_type": "code",
   "execution_count": 26,
   "metadata": {},
   "outputs": [
    {
     "data": {
      "text/plain": [
       "array(['/georef/api/localidades'], dtype=object)"
      ]
     },
     "execution_count": 26,
     "metadata": {},
     "output_type": "execute_result"
    }
   ],
   "source": [
    "df_analytics[df_analytics.referer == \"https://oceba.gba.gov.ar/tarifa_social/solicitar\"].uri.unique()"
   ]
  },
  {
   "cell_type": "code",
   "execution_count": 27,
   "metadata": {},
   "outputs": [
    {
     "data": {
      "text/plain": [
       "array(['/georef/api/departamentos'], dtype=object)"
      ]
     },
     "execution_count": 27,
     "metadata": {},
     "output_type": "execute_result"
    }
   ],
   "source": [
    "df_analytics[df_analytics.referer == \"https://mi.argentina.gob.ar/salud/centros-de-salud\"].uri.unique()"
   ]
  },
  {
   "cell_type": "code",
   "execution_count": null,
   "metadata": {},
   "outputs": [],
   "source": []
  }
 ],
 "metadata": {
  "kernelspec": {
   "display_name": "Python 3",
   "language": "python",
   "name": "python3"
  },
  "language_info": {
   "codemirror_mode": {
    "name": "ipython",
    "version": 3
   },
   "file_extension": ".py",
   "mimetype": "text/x-python",
   "name": "python",
   "nbconvert_exporter": "python",
   "pygments_lexer": "ipython3",
   "version": "3.7.3"
  },
  "toc": {
   "colors": {
    "hover_highlight": "#DAA520",
    "running_highlight": "#FF0000",
    "selected_highlight": "#FFD700"
   },
   "moveMenuLeft": true,
   "nav_menu": {
    "height": "12px",
    "width": "252px"
   },
   "navigate_menu": true,
   "number_sections": true,
   "sideBar": true,
   "threshold": 4,
   "toc_cell": false,
   "toc_section_display": "block",
   "toc_window_display": false
  }
 },
 "nbformat": 4,
 "nbformat_minor": 2
}
