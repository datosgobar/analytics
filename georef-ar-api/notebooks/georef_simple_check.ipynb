{
 "cells": [
  {
   "cell_type": "code",
   "execution_count": 1,
   "metadata": {},
   "outputs": [],
   "source": [
    "# setup\n",
    "import os\n",
    "import sys\n",
    "\n",
    "# para importar módulos en '../../tools'\n",
    "module_path = os.path.abspath(os.path.join('../../tools'))\n",
    "if module_path not in sys.path:\n",
    "    sys.path.append(module_path)\n",
    "\n",
    "import locale\n",
    "\n",
    "import re\n",
    "import glob\n",
    "import pandas as pd\n",
    "import numpy as np\n",
    "import matplotlib.pyplot as plt\n",
    "import matplotlib.patches as patches\n",
    "\n",
    "from pylab import *\n",
    "import matplotlib.gridspec as gridspec\n",
    "\n",
    "import seaborn as sns\n",
    "from urllib.parse import parse_qs\n",
    "\n",
    "from sklearn.linear_model import LinearRegression, Ridge\n",
    "from sklearn.preprocessing import maxabs_scale, minmax_scale, MinMaxScaler, StandardScaler\n",
    "from sklearn.cluster import KMeans\n",
    "# import squarify\n",
    "\n",
    "import json\n",
    "\n",
    "import analytics_tools\n",
    "import requests\n",
    "from datetime import datetime, date, timedelta\n",
    "\n",
    "\n",
    "locale.setlocale(locale.LC_ALL, '')\n",
    "\n",
    "%matplotlib inline\n",
    "\n",
    "sns.set()\n",
    "plt.rcParams['image.cmap'] = 'Accent'\n",
    "\n",
    "pd.options.mode.chained_assignment = None\n",
    "pd.set_option('display.max_colwidth', -1)\n",
    "pd.set_option('precision',2)\n",
    "pd.set_option('display.float_format', lambda x: locale.format_string('%d', x, 1))\n",
    "import arrow"
   ]
  },
  {
   "cell_type": "code",
   "execution_count": 2,
   "metadata": {},
   "outputs": [],
   "source": [
    "def read_files_to_df(directory, start_date=None):\n",
    "    \"\"\"Lee CSVs de misma estructura en un directorio a un solo DataFrame.\"\"\"\n",
    "    \n",
    "    start_date = start_date or arrow.now().shift(months=-3).format(\"YYYY-MM-DD\")\n",
    "    file_pattern = os.path.join(directory, \"*.csv\") \n",
    "    filtered_files = [\n",
    "        file for file in glob.glob(file_pattern) \n",
    "        if arrow.get(file.split(\"_\")[1].split(\".\")[0]) > arrow.get(start_date)\n",
    "    ]\n",
    "\n",
    "    dfs = [pd.read_csv(file, encoding=\"utf8\", parse_dates=True)\n",
    "           for file in filtered_files]\n",
    "        \n",
    "    return pd.concat(dfs, axis=0)"
   ]
  },
  {
   "cell_type": "code",
   "execution_count": 3,
   "metadata": {},
   "outputs": [],
   "source": [
    "analytics_tools.update_analytics()"
   ]
  },
  {
   "cell_type": "code",
   "execution_count": 4,
   "metadata": {},
   "outputs": [],
   "source": [
    "df_analytics = read_files_to_df(analytics_tools.DIR_DATA_GR, \"2019-10-28\")"
   ]
  },
  {
   "cell_type": "code",
   "execution_count": null,
   "metadata": {},
   "outputs": [],
   "source": []
  }
 ],
 "metadata": {
  "kernelspec": {
   "display_name": "Python 3",
   "language": "python",
   "name": "python3"
  },
  "language_info": {
   "codemirror_mode": {
    "name": "ipython",
    "version": 3
   },
   "file_extension": ".py",
   "mimetype": "text/x-python",
   "name": "python",
   "nbconvert_exporter": "python",
   "pygments_lexer": "ipython3",
   "version": "3.7.3"
  },
  "toc": {
   "colors": {
    "hover_highlight": "#DAA520",
    "running_highlight": "#FF0000",
    "selected_highlight": "#FFD700"
   },
   "moveMenuLeft": true,
   "nav_menu": {
    "height": "12px",
    "width": "252px"
   },
   "navigate_menu": true,
   "number_sections": true,
   "sideBar": true,
   "threshold": 4,
   "toc_cell": false,
   "toc_section_display": "block",
   "toc_window_display": false
  }
 },
 "nbformat": 4,
 "nbformat_minor": 2
}
